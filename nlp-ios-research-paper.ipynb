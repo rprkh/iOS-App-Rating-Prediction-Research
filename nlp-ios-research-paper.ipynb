{
 "cells": [
  {
   "cell_type": "code",
   "execution_count": 1,
   "id": "196d03c8",
   "metadata": {
    "execution": {
     "iopub.execute_input": "2023-03-19T08:48:29.066000Z",
     "iopub.status.busy": "2023-03-19T08:48:29.065492Z",
     "iopub.status.idle": "2023-03-19T08:48:53.110462Z",
     "shell.execute_reply": "2023-03-19T08:48:53.109253Z"
    },
    "papermill": {
     "duration": 24.059073,
     "end_time": "2023-03-19T08:48:53.113607",
     "exception": false,
     "start_time": "2023-03-19T08:48:29.054534",
     "status": "completed"
    },
    "tags": []
   },
   "outputs": [],
   "source": [
    "import os\n",
    "import random\n",
    "import platform\n",
    "import sys\n",
    "\n",
    "import numpy as np\n",
    "import pandas as pd\n",
    "import matplotlib\n",
    "import matplotlib.pyplot as plt\n",
    "from matplotlib.ticker import MaxNLocator\n",
    "import seaborn as sns\n",
    "from wordcloud import WordCloud\n",
    "from pprint import pprint\n",
    "\n",
    "import re\n",
    "import string\n",
    "from collections import Counter\n",
    "from collections import defaultdict\n",
    "import nltk\n",
    "from nltk.corpus import stopwords\n",
    "from nltk.stem import PorterStemmer\n",
    "from nltk import ngrams\n",
    "import pickle\n",
    "import spacy\n",
    "# nltk.download('wordnet')\n",
    "# nltk.download('all-corpora')\n",
    "# nltk.download()\n",
    "\n",
    "import transformers\n",
    "from transformers import (BertModel, BertTokenizer, AutoTokenizer, RobertaTokenizer, RobertaModel, \n",
    "                          DistilBertTokenizer, DistilBertModel, \n",
    "                          ElectraTokenizer, ElectraModel,\n",
    "                          MobileBertTokenizer, MobileBertModel,\n",
    "                          AdamW, get_linear_schedule_with_warmup)\n",
    "\n",
    "import sklearn\n",
    "from sklearn.preprocessing import LabelEncoder, OrdinalEncoder\n",
    "from sklearn.model_selection import train_test_split\n",
    "from sklearn.metrics import accuracy_score, f1_score, precision_score, recall_score, confusion_matrix, classification_report\n",
    "from sklearn.utils.class_weight import compute_class_weight\n",
    "from imblearn.over_sampling import RandomOverSampler, ADASYN, SMOTE\n",
    "\n",
    "import torch\n",
    "from torch import optim\n",
    "import torch.nn as nn\n",
    "import torch.nn.functional as F\n",
    "from torch.utils.data import Dataset, DataLoader\n",
    "from torch.optim.lr_scheduler import MultiStepLR\n",
    "\n",
    "import warnings\n",
    "warnings.filterwarnings(\"ignore\")"
   ]
  },
  {
   "cell_type": "code",
   "execution_count": 2,
   "id": "233abb96",
   "metadata": {
    "execution": {
     "iopub.execute_input": "2023-03-19T08:48:53.131195Z",
     "iopub.status.busy": "2023-03-19T08:48:53.130879Z",
     "iopub.status.idle": "2023-03-19T08:48:53.148872Z",
     "shell.execute_reply": "2023-03-19T08:48:53.146739Z"
    },
    "papermill": {
     "duration": 0.031418,
     "end_time": "2023-03-19T08:48:53.153353",
     "exception": false,
     "start_time": "2023-03-19T08:48:53.121935",
     "status": "completed"
    },
    "tags": []
   },
   "outputs": [
    {
     "name": "stdout",
     "output_type": "stream",
     "text": [
      "[INFO] Using GPU: Tesla P100-PCIE-16GB\n",
      "\n"
     ]
    }
   ],
   "source": [
    "class Config:\n",
    "    EPOCHS = 3\n",
    "    MAX_LEN = 80\n",
    "    BATCH_SIZE = 64\n",
    "    MODEL_NAMES = [\"bert-base-uncased\",\n",
    "                   \"roberta-base\",\n",
    "                   \"distilbert-base-uncased\",\n",
    "                   \"google/electra-small-discriminator\",\n",
    "                   \"google/mobilebert-uncased\"\n",
    "                  ]\n",
    "    \n",
    "def set_seed(seed):\n",
    "    np.random.seed(seed)\n",
    "    random.seed(seed)\n",
    "    torch.manual_seed(seed)\n",
    "    torch.cuda.manual_seed_all(seed)\n",
    "    os.environ['PYTHONHASHSEED'] = str(seed)\n",
    "    \n",
    "def get_device():\n",
    "    global DEVICE\n",
    "    if torch.cuda.is_available():\n",
    "        print(\"[INFO] Using GPU: {}\\n\".format(torch.cuda.get_device_name()))\n",
    "        DEVICE = torch.device('cuda:0')\n",
    "    else:\n",
    "        print(\"\\n[INFO] GPU not found. Using CPU: {}\\n\".format(platform.processor()))\n",
    "        DEVICE = torch.device('cpu')\n",
    "        \n",
    "RANDOM_SEED = 42\n",
    "set_seed(RANDOM_SEED)\n",
    "get_device()"
   ]
  },
  {
   "cell_type": "code",
   "execution_count": 3,
   "id": "8e508462",
   "metadata": {
    "execution": {
     "iopub.execute_input": "2023-03-19T08:48:53.171055Z",
     "iopub.status.busy": "2023-03-19T08:48:53.170669Z",
     "iopub.status.idle": "2023-03-19T08:48:54.381674Z",
     "shell.execute_reply": "2023-03-19T08:48:54.380462Z"
    },
    "papermill": {
     "duration": 1.222398,
     "end_time": "2023-03-19T08:48:54.384464",
     "exception": false,
     "start_time": "2023-03-19T08:48:53.162066",
     "status": "completed"
    },
    "tags": []
   },
   "outputs": [
    {
     "name": "stdout",
     "output_type": "stream",
     "text": [
      "Sun Mar 19 08:48:54 2023       \r\n",
      "+-----------------------------------------------------------------------------+\r\n",
      "| NVIDIA-SMI 470.82.01    Driver Version: 470.82.01    CUDA Version: 11.4     |\r\n",
      "|-------------------------------+----------------------+----------------------+\r\n",
      "| GPU  Name        Persistence-M| Bus-Id        Disp.A | Volatile Uncorr. ECC |\r\n",
      "| Fan  Temp  Perf  Pwr:Usage/Cap|         Memory-Usage | GPU-Util  Compute M. |\r\n",
      "|                               |                      |               MIG M. |\r\n",
      "|===============================+======================+======================|\r\n",
      "|   0  Tesla P100-PCIE...  Off  | 00000000:00:04.0 Off |                    0 |\r\n",
      "| N/A   33C    P0    31W / 250W |   1205MiB / 16280MiB |      0%      Default |\r\n",
      "|                               |                      |                  N/A |\r\n",
      "+-------------------------------+----------------------+----------------------+\r\n",
      "                                                                               \r\n",
      "+-----------------------------------------------------------------------------+\r\n",
      "| Processes:                                                                  |\r\n",
      "|  GPU   GI   CI        PID   Type   Process name                  GPU Memory |\r\n",
      "|        ID   ID                                                   Usage      |\r\n",
      "|=============================================================================|\r\n",
      "+-----------------------------------------------------------------------------+\r\n"
     ]
    }
   ],
   "source": [
    "!nvidia-smi"
   ]
  },
  {
   "cell_type": "code",
   "execution_count": 4,
   "id": "a71b78b1",
   "metadata": {
    "execution": {
     "iopub.execute_input": "2023-03-19T08:48:54.402142Z",
     "iopub.status.busy": "2023-03-19T08:48:54.401805Z",
     "iopub.status.idle": "2023-03-19T08:48:54.406778Z",
     "shell.execute_reply": "2023-03-19T08:48:54.405818Z"
    },
    "papermill": {
     "duration": 0.016193,
     "end_time": "2023-03-19T08:48:54.408875",
     "exception": false,
     "start_time": "2023-03-19T08:48:54.392682",
     "status": "completed"
    },
    "tags": []
   },
   "outputs": [],
   "source": [
    "# df = pd.read_csv('/kaggle/input/nlp-ios-research-user-comments/combined_df.csv', encoding = 'utf-8-sig')\n",
    "# df"
   ]
  },
  {
   "cell_type": "code",
   "execution_count": 5,
   "id": "40f01a44",
   "metadata": {
    "execution": {
     "iopub.execute_input": "2023-03-19T08:48:54.426679Z",
     "iopub.status.busy": "2023-03-19T08:48:54.425896Z",
     "iopub.status.idle": "2023-03-19T08:48:54.430201Z",
     "shell.execute_reply": "2023-03-19T08:48:54.429176Z"
    },
    "papermill": {
     "duration": 0.014963,
     "end_time": "2023-03-19T08:48:54.432266",
     "exception": false,
     "start_time": "2023-03-19T08:48:54.417303",
     "status": "completed"
    },
    "tags": []
   },
   "outputs": [],
   "source": [
    "# def get_dataset_stats(df):\n",
    "#     print(df.isna().sum())\n",
    "#     print('============================')\n",
    "#     print('Total Missing Values: ', df.isna().sum().sum())\n",
    "#     print('============================')\n",
    "    \n",
    "# get_dataset_stats(df)"
   ]
  },
  {
   "cell_type": "code",
   "execution_count": 6,
   "id": "5978ddd2",
   "metadata": {
    "execution": {
     "iopub.execute_input": "2023-03-19T08:48:54.449880Z",
     "iopub.status.busy": "2023-03-19T08:48:54.449075Z",
     "iopub.status.idle": "2023-03-19T08:48:54.453433Z",
     "shell.execute_reply": "2023-03-19T08:48:54.452560Z"
    },
    "papermill": {
     "duration": 0.01504,
     "end_time": "2023-03-19T08:48:54.455486",
     "exception": false,
     "start_time": "2023-03-19T08:48:54.440446",
     "status": "completed"
    },
    "tags": []
   },
   "outputs": [],
   "source": [
    "# df = df.drop_duplicates()\n",
    "# df = df.dropna()\n",
    "# df"
   ]
  },
  {
   "cell_type": "code",
   "execution_count": 7,
   "id": "13954aa6",
   "metadata": {
    "execution": {
     "iopub.execute_input": "2023-03-19T08:48:54.473848Z",
     "iopub.status.busy": "2023-03-19T08:48:54.473556Z",
     "iopub.status.idle": "2023-03-19T08:48:54.477653Z",
     "shell.execute_reply": "2023-03-19T08:48:54.476672Z"
    },
    "papermill": {
     "duration": 0.016373,
     "end_time": "2023-03-19T08:48:54.479812",
     "exception": false,
     "start_time": "2023-03-19T08:48:54.463439",
     "status": "completed"
    },
    "tags": []
   },
   "outputs": [],
   "source": [
    "# get_dataset_stats(df)"
   ]
  },
  {
   "cell_type": "code",
   "execution_count": 8,
   "id": "6021c36c",
   "metadata": {
    "execution": {
     "iopub.execute_input": "2023-03-19T08:48:54.497912Z",
     "iopub.status.busy": "2023-03-19T08:48:54.497136Z",
     "iopub.status.idle": "2023-03-19T08:48:54.502124Z",
     "shell.execute_reply": "2023-03-19T08:48:54.501217Z"
    },
    "papermill": {
     "duration": 0.015889,
     "end_time": "2023-03-19T08:48:54.504372",
     "exception": false,
     "start_time": "2023-03-19T08:48:54.488483",
     "status": "completed"
    },
    "tags": []
   },
   "outputs": [],
   "source": [
    "# def plot_label_counts(df):\n",
    "\n",
    "#     plt.figure(figsize = (10, 6))\n",
    "#     ax = plt.axes()\n",
    "#     ax = sns.countplot(x = 'rating', data = df)\n",
    "#     plt.title('Label Count', fontsize = 20)\n",
    "#     plt.xlabel('Type of Cyberbullying', fontsize = 15)\n",
    "#     plt.ylabel('Count', fontsize = 15)\n",
    "#     ax.xaxis.set_tick_params(labelsize = 12)\n",
    "#     ax.yaxis.set_tick_params(labelsize = 12)\n",
    "#     bbox_args = dict(boxstyle = 'round', fc = '0.9')\n",
    "#     for p in ax.patches:\n",
    "#             ax.annotate('{:.0f}'.format(p.get_height()), (p.get_x() + 0.18, p.get_height() + 110), \n",
    "#                        color = 'black',\n",
    "#                        bbox = bbox_args,\n",
    "#                        fontsize = 13)\n",
    "#     plt.show()\n",
    "    \n",
    "# plot_label_counts(df)"
   ]
  },
  {
   "cell_type": "code",
   "execution_count": 9,
   "id": "89977ce3",
   "metadata": {
    "execution": {
     "iopub.execute_input": "2023-03-19T08:48:54.521576Z",
     "iopub.status.busy": "2023-03-19T08:48:54.520697Z",
     "iopub.status.idle": "2023-03-19T08:48:54.525763Z",
     "shell.execute_reply": "2023-03-19T08:48:54.524799Z"
    },
    "papermill": {
     "duration": 0.015652,
     "end_time": "2023-03-19T08:48:54.527749",
     "exception": false,
     "start_time": "2023-03-19T08:48:54.512097",
     "status": "completed"
    },
    "tags": []
   },
   "outputs": [],
   "source": [
    "# X = np.array(df['review_description']).reshape(-1, 1)\n",
    "# y = np.array(df['rating'])\n",
    "\n",
    "# print(Counter(y))\n",
    "\n",
    "# ros = RandomOverSampler(sampling_strategy='all', random_state=RANDOM_SEED)\n",
    "\n",
    "# X, y = ros.fit_resample(X, y)\n",
    "\n",
    "# assert len(X) == len(y)\n",
    "# print(Counter(y))\n",
    "\n",
    "# df = pd.DataFrame({\"review_description\": X.flatten(), \"rating\": y})\n",
    "# df"
   ]
  },
  {
   "cell_type": "code",
   "execution_count": 10,
   "id": "d54ec4c5",
   "metadata": {
    "execution": {
     "iopub.execute_input": "2023-03-19T08:48:54.545132Z",
     "iopub.status.busy": "2023-03-19T08:48:54.544315Z",
     "iopub.status.idle": "2023-03-19T08:48:54.548750Z",
     "shell.execute_reply": "2023-03-19T08:48:54.547797Z"
    },
    "papermill": {
     "duration": 0.015377,
     "end_time": "2023-03-19T08:48:54.550913",
     "exception": false,
     "start_time": "2023-03-19T08:48:54.535536",
     "status": "completed"
    },
    "tags": []
   },
   "outputs": [],
   "source": [
    "# plot_label_counts(df)"
   ]
  },
  {
   "cell_type": "code",
   "execution_count": 11,
   "id": "e0bfeac4",
   "metadata": {
    "execution": {
     "iopub.execute_input": "2023-03-19T08:48:54.569170Z",
     "iopub.status.busy": "2023-03-19T08:48:54.568609Z",
     "iopub.status.idle": "2023-03-19T08:48:54.581967Z",
     "shell.execute_reply": "2023-03-19T08:48:54.581040Z"
    },
    "papermill": {
     "duration": 0.024533,
     "end_time": "2023-03-19T08:48:54.584004",
     "exception": false,
     "start_time": "2023-03-19T08:48:54.559471",
     "status": "completed"
    },
    "tags": []
   },
   "outputs": [],
   "source": [
    "# stop_words = list(stopwords.words('english'))\n",
    "\n",
    "# def remove_urls(text):\n",
    "#     urls = re.compile(r'https?://\\S+|www\\.\\S+')\n",
    "#     return urls.sub(r'', text)\n",
    "\n",
    "# def remove_HTML(text):\n",
    "#     html = re.compile('<.*?>')\n",
    "#     return html.sub(r'', text)\n",
    "\n",
    "# def remove_emoji(text):\n",
    "#     emoji_pattern = re.compile('['\n",
    "#                            u'\\U0001F600-\\U0001F64F'\n",
    "#                            u'\\U0001F300-\\U0001F5FF'\n",
    "#                            u'\\U0001F680-\\U0001F6FF'\n",
    "#                            u'\\U0001F1E0-\\U0001F1FF'\n",
    "#                            u'\\U00002702-\\U000027B0'\n",
    "#                            u'\\U000024C2-\\U0001F251'\n",
    "#                            ']+', flags=re.UNICODE)\n",
    "#     return emoji_pattern.sub(r'', text)\n",
    "\n",
    "# def remove_emoticons(text):\n",
    "#     emoticons = {\n",
    "#         u\":‑\\)\":\"Happy face or smiley\",\n",
    "#         u\":\\)\":\"Happy face or smiley\",\n",
    "#         u\":-\\]\":\"Happy face or smiley\",\n",
    "#         u\":\\]\":\"Happy face or smiley\",\n",
    "#         u\":-3\":\"Happy face smiley\",\n",
    "#         u\":3\":\"Happy face smiley\",\n",
    "#         u\":->\":\"Happy face smiley\",\n",
    "#         u\":>\":\"Happy face smiley\",\n",
    "#         u\"8-\\)\":\"Happy face smiley\",\n",
    "#         u\":o\\)\":\"Happy face smiley\",\n",
    "#         u\":-\\}\":\"Happy face smiley\",\n",
    "#         u\":\\}\":\"Happy face smiley\",\n",
    "#         u\":-\\)\":\"Happy face smiley\",\n",
    "#         u\":c\\)\":\"Happy face smiley\",\n",
    "#         u\":\\^\\)\":\"Happy face smiley\",\n",
    "#         u\"=\\]\":\"Happy face smiley\",\n",
    "#         u\"=\\)\":\"Happy face smiley\",\n",
    "#         u\":‑D\":\"Laughing, big grin or laugh with glasses\",\n",
    "#         u\":D\":\"Laughing, big grin or laugh with glasses\",\n",
    "#         u\"8‑D\":\"Laughing, big grin or laugh with glasses\",\n",
    "#         u\"8D\":\"Laughing, big grin or laugh with glasses\",\n",
    "#         u\"X‑D\":\"Laughing, big grin or laugh with glasses\",\n",
    "#         u\"XD\":\"Laughing, big grin or laugh with glasses\",\n",
    "#         u\"=D\":\"Laughing, big grin or laugh with glasses\",\n",
    "#         u\"=3\":\"Laughing, big grin or laugh with glasses\",\n",
    "#         u\"B\\^D\":\"Laughing, big grin or laugh with glasses\",\n",
    "#         u\":-\\)\\)\":\"Very happy\",\n",
    "#         u\":‑\\(\":\"Frown, sad, andry or pouting\",\n",
    "#         u\":-\\(\":\"Frown, sad, andry or pouting\",\n",
    "#         u\":\\(\":\"Frown, sad, andry or pouting\",\n",
    "#         u\":‑c\":\"Frown, sad, andry or pouting\",\n",
    "#         u\":c\":\"Frown, sad, andry or pouting\",\n",
    "#         u\":‑<\":\"Frown, sad, andry or pouting\",\n",
    "#         u\":<\":\"Frown, sad, andry or pouting\",\n",
    "#         u\":‑\\[\":\"Frown, sad, andry or pouting\",\n",
    "#         u\":\\[\":\"Frown, sad, andry or pouting\",\n",
    "#         u\":-\\|\\|\":\"Frown, sad, andry or pouting\",\n",
    "#         u\">:\\[\":\"Frown, sad, andry or pouting\",\n",
    "#         u\":\\{\":\"Frown, sad, andry or pouting\",\n",
    "#         u\":@\":\"Frown, sad, andry or pouting\",\n",
    "#         u\">:\\(\":\"Frown, sad, andry or pouting\",\n",
    "#         u\":'‑\\(\":\"Crying\",\n",
    "#         u\":'\\(\":\"Crying\",\n",
    "#         u\":'‑\\)\":\"Tears of happiness\",\n",
    "#         u\":'\\)\":\"Tears of happiness\",\n",
    "#         u\"D‑':\":\"Horror\",\n",
    "#         u\"D:<\":\"Disgust\",\n",
    "#         u\"D:\":\"Sadness\",\n",
    "#         u\"D8\":\"Great dismay\",\n",
    "#         u\"D;\":\"Great dismay\",\n",
    "#         u\"D=\":\"Great dismay\",\n",
    "#         u\"DX\":\"Great dismay\",\n",
    "#         u\":‑O\":\"Surprise\",\n",
    "#         u\":O\":\"Surprise\",\n",
    "#         u\":‑o\":\"Surprise\",\n",
    "#         u\":o\":\"Surprise\",\n",
    "#         u\":-0\":\"Shock\",\n",
    "#         u\"8‑0\":\"Yawn\",\n",
    "#         u\">:O\":\"Yawn\",\n",
    "#         u\":-\\*\":\"Kiss\",\n",
    "#         u\":\\*\":\"Kiss\",\n",
    "#         u\":X\":\"Kiss\",\n",
    "#         u\";‑\\)\":\"Wink or smirk\",\n",
    "#         u\";\\)\":\"Wink or smirk\",\n",
    "#         u\"\\*-\\)\":\"Wink or smirk\",\n",
    "#         u\"\\*\\)\":\"Wink or smirk\",\n",
    "#         u\";‑\\]\":\"Wink or smirk\",\n",
    "#         u\";\\]\":\"Wink or smirk\",\n",
    "#         u\";\\^\\)\":\"Wink or smirk\",\n",
    "#         u\":‑,\":\"Wink or smirk\",\n",
    "#         u\";D\":\"Wink or smirk\",\n",
    "#         u\":‑P\":\"Tongue sticking out, cheeky, playful or blowing a raspberry\",\n",
    "#         u\":P\":\"Tongue sticking out, cheeky, playful or blowing a raspberry\",\n",
    "#         u\"X‑P\":\"Tongue sticking out, cheeky, playful or blowing a raspberry\",\n",
    "#         u\"XP\":\"Tongue sticking out, cheeky, playful or blowing a raspberry\",\n",
    "#         u\":‑Þ\":\"Tongue sticking out, cheeky, playful or blowing a raspberry\",\n",
    "#         u\":Þ\":\"Tongue sticking out, cheeky, playful or blowing a raspberry\",\n",
    "#         u\":b\":\"Tongue sticking out, cheeky, playful or blowing a raspberry\",\n",
    "#         u\"d:\":\"Tongue sticking out, cheeky, playful or blowing a raspberry\",\n",
    "#         u\"=p\":\"Tongue sticking out, cheeky, playful or blowing a raspberry\",\n",
    "#         u\">:P\":\"Tongue sticking out, cheeky, playful or blowing a raspberry\",\n",
    "#         u\":‑/\":\"Skeptical, annoyed, undecided, uneasy or hesitant\",\n",
    "#         u\":/\":\"Skeptical, annoyed, undecided, uneasy or hesitant\",\n",
    "#         u\":-[.]\":\"Skeptical, annoyed, undecided, uneasy or hesitant\",\n",
    "#         u\">:[(\\\\\\)]\":\"Skeptical, annoyed, undecided, uneasy or hesitant\",\n",
    "#         u\">:/\":\"Skeptical, annoyed, undecided, uneasy or hesitant\",\n",
    "#         u\":[(\\\\\\)]\":\"Skeptical, annoyed, undecided, uneasy or hesitant\",\n",
    "#         u\"=/\":\"Skeptical, annoyed, undecided, uneasy or hesitant\",\n",
    "#         u\"=[(\\\\\\)]\":\"Skeptical, annoyed, undecided, uneasy or hesitant\",\n",
    "#         u\":L\":\"Skeptical, annoyed, undecided, uneasy or hesitant\",\n",
    "#         u\"=L\":\"Skeptical, annoyed, undecided, uneasy or hesitant\",\n",
    "#         u\":S\":\"Skeptical, annoyed, undecided, uneasy or hesitant\",\n",
    "#         u\":‑\\|\":\"Straight face\",\n",
    "#         u\":\\|\":\"Straight face\",\n",
    "#         u\":$\":\"Embarrassed or blushing\",\n",
    "#         u\":‑x\":\"Sealed lips or wearing braces or tongue-tied\",\n",
    "#         u\":x\":\"Sealed lips or wearing braces or tongue-tied\",\n",
    "#         u\":‑#\":\"Sealed lips or wearing braces or tongue-tied\",\n",
    "#         u\":#\":\"Sealed lips or wearing braces or tongue-tied\",\n",
    "#         u\":‑&\":\"Sealed lips or wearing braces or tongue-tied\",\n",
    "#         u\":&\":\"Sealed lips or wearing braces or tongue-tied\",\n",
    "#         u\"O:‑\\)\":\"Angel, saint or innocent\",\n",
    "#         u\"O:\\)\":\"Angel, saint or innocent\",\n",
    "#         u\"0:‑3\":\"Angel, saint or innocent\",\n",
    "#         u\"0:3\":\"Angel, saint or innocent\",\n",
    "#         u\"0:‑\\)\":\"Angel, saint or innocent\",\n",
    "#         u\"0:\\)\":\"Angel, saint or innocent\",\n",
    "#         u\":‑b\":\"Tongue sticking out, cheeky, playful or blowing a raspberry\",\n",
    "#         u\"0;\\^\\)\":\"Angel, saint or innocent\",\n",
    "#         u\">:‑\\)\":\"Evil or devilish\",\n",
    "#         u\">:\\)\":\"Evil or devilish\",\n",
    "#         u\"\\}:‑\\)\":\"Evil or devilish\",\n",
    "#         u\"\\}:\\)\":\"Evil or devilish\",\n",
    "#         u\"3:‑\\)\":\"Evil or devilish\",\n",
    "#         u\"3:\\)\":\"Evil or devilish\",\n",
    "#         u\">;\\)\":\"Evil or devilish\",\n",
    "#         u\"\\|;‑\\)\":\"Cool\",\n",
    "#         u\"\\|‑O\":\"Bored\",\n",
    "#         u\":‑J\":\"Tongue-in-cheek\",\n",
    "#         u\"#‑\\)\":\"Party all night\",\n",
    "#         u\"%‑\\)\":\"Drunk or confused\",\n",
    "#         u\"%\\)\":\"Drunk or confused\",\n",
    "#         u\":-###..\":\"Being sick\",\n",
    "#         u\":###..\":\"Being sick\",\n",
    "#         u\"<:‑\\|\":\"Dump\",\n",
    "#         u\"\\(>_<\\)\":\"Troubled\",\n",
    "#         u\"\\(>_<\\)>\":\"Troubled\",\n",
    "#         u\"\\(';'\\)\":\"Baby\",\n",
    "#         u\"\\(\\^\\^>``\":\"Nervous or Embarrassed or Troubled or Shy or Sweat drop\",\n",
    "#         u\"\\(\\^_\\^;\\)\":\"Nervous or Embarrassed or Troubled or Shy or Sweat drop\",\n",
    "#         u\"\\(-_-;\\)\":\"Nervous or Embarrassed or Troubled or Shy or Sweat drop\",\n",
    "#         u\"\\(~_~;\\) \\(・\\.・;\\)\":\"Nervous or Embarrassed or Troubled or Shy or Sweat drop\",\n",
    "#         u\"\\(-_-\\)zzz\":\"Sleeping\",\n",
    "#         u\"\\(\\^_-\\)\":\"Wink\",\n",
    "#         u\"\\(\\(\\+_\\+\\)\\)\":\"Confused\",\n",
    "#         u\"\\(\\+o\\+\\)\":\"Confused\",\n",
    "#         u\"\\(o\\|o\\)\":\"Ultraman\",\n",
    "#         u\"\\^_\\^\":\"Joyful\",\n",
    "#         u\"\\(\\^_\\^\\)/\":\"Joyful\",\n",
    "#         u\"\\(\\^O\\^\\)／\":\"Joyful\",\n",
    "#         u\"\\(\\^o\\^\\)／\":\"Joyful\",\n",
    "#         u\"\\(__\\)\":\"Kowtow as a sign of respect, or dogeza for apology\",\n",
    "#         u\"_\\(\\._\\.\\)_\":\"Kowtow as a sign of respect, or dogeza for apology\",\n",
    "#         u\"<\\(_ _\\)>\":\"Kowtow as a sign of respect, or dogeza for apology\",\n",
    "#         u\"<m\\(__\\)m>\":\"Kowtow as a sign of respect, or dogeza for apology\",\n",
    "#         u\"m\\(__\\)m\":\"Kowtow as a sign of respect, or dogeza for apology\",\n",
    "#         u\"m\\(_ _\\)m\":\"Kowtow as a sign of respect, or dogeza for apology\",\n",
    "#         u\"\\('_'\\)\":\"Sad or Crying\",\n",
    "#         u\"\\(/_;\\)\":\"Sad or Crying\",\n",
    "#         u\"\\(T_T\\) \\(;_;\\)\":\"Sad or Crying\",\n",
    "#         u\"\\(;_;\":\"Sad of Crying\",\n",
    "#         u\"\\(;_:\\)\":\"Sad or Crying\",\n",
    "#         u\"\\(;O;\\)\":\"Sad or Crying\",\n",
    "#         u\"\\(:_;\\)\":\"Sad or Crying\",\n",
    "#         u\"\\(ToT\\)\":\"Sad or Crying\",\n",
    "#         u\";_;\":\"Sad or Crying\",\n",
    "#         u\";-;\":\"Sad or Crying\",\n",
    "#         u\";n;\":\"Sad or Crying\",\n",
    "#         u\";;\":\"Sad or Crying\",\n",
    "#         u\"Q\\.Q\":\"Sad or Crying\",\n",
    "#         u\"T\\.T\":\"Sad or Crying\",\n",
    "#         u\"QQ\":\"Sad or Crying\",\n",
    "#         u\"Q_Q\":\"Sad or Crying\",\n",
    "#         u\"\\(-\\.-\\)\":\"Shame\",\n",
    "#         u\"\\(-_-\\)\":\"Shame\",\n",
    "#         u\"\\(一一\\)\":\"Shame\",\n",
    "#         u\"\\(；一_一\\)\":\"Shame\",\n",
    "#         u\"\\(=_=\\)\":\"Tired\",\n",
    "#         u\"\\(=\\^\\·\\^=\\)\":\"cat\",\n",
    "#         u\"\\(=\\^\\·\\·\\^=\\)\":\"cat\",\n",
    "#         u\"=_\\^=\t\":\"cat\",\n",
    "#         u\"\\(\\.\\.\\)\":\"Looking down\",\n",
    "#         u\"\\(\\._\\.\\)\":\"Looking down\",\n",
    "#         u\"\\^m\\^\":\"Giggling with hand covering mouth\",\n",
    "#         u\"\\(\\・\\・?\":\"Confusion\",\n",
    "#         u\"\\(?_?\\)\":\"Confusion\",\n",
    "#         u\">\\^_\\^<\":\"Normal Laugh\",\n",
    "#         u\"<\\^!\\^>\":\"Normal Laugh\",\n",
    "#         u\"\\^/\\^\":\"Normal Laugh\",\n",
    "#         u\"\\（\\*\\^_\\^\\*）\" :\"Normal Laugh\",\n",
    "#         u\"\\(\\^<\\^\\) \\(\\^\\.\\^\\)\":\"Normal Laugh\",\n",
    "#         u\"\\(^\\^\\)\":\"Normal Laugh\",\n",
    "#         u\"\\(\\^\\.\\^\\)\":\"Normal Laugh\",\n",
    "#         u\"\\(\\^_\\^\\.\\)\":\"Normal Laugh\",\n",
    "#         u\"\\(\\^_\\^\\)\":\"Normal Laugh\",\n",
    "#         u\"\\(\\^\\^\\)\":\"Normal Laugh\",\n",
    "#         u\"\\(\\^J\\^\\)\":\"Normal Laugh\",\n",
    "#         u\"\\(\\*\\^\\.\\^\\*\\)\":\"Normal Laugh\",\n",
    "#         u\"\\(\\^—\\^\\）\":\"Normal Laugh\",\n",
    "#         u\"\\(#\\^\\.\\^#\\)\":\"Normal Laugh\",\n",
    "#         u\"\\（\\^—\\^\\）\":\"Waving\",\n",
    "#         u\"\\(;_;\\)/~~~\":\"Waving\",\n",
    "#         u\"\\(\\^\\.\\^\\)/~~~\":\"Waving\",\n",
    "#         u\"\\(-_-\\)/~~~ \\($\\·\\·\\)/~~~\":\"Waving\",\n",
    "#         u\"\\(T_T\\)/~~~\":\"Waving\",\n",
    "#         u\"\\(ToT\\)/~~~\":\"Waving\",\n",
    "#         u\"\\(\\*\\^0\\^\\*\\)\":\"Excited\",\n",
    "#         u\"\\(\\*_\\*\\)\":\"Amazed\",\n",
    "#         u\"\\(\\*_\\*;\":\"Amazed\",\n",
    "#         u\"\\(\\+_\\+\\) \\(@_@\\)\":\"Amazed\",\n",
    "#         u\"\\(\\*\\^\\^\\)v\":\"Laughing,Cheerful\",\n",
    "#         u\"\\(\\^_\\^\\)v\":\"Laughing,Cheerful\",\n",
    "#         u\"\\(\\(d[-_-]b\\)\\)\":\"Headphones,Listening to music\",\n",
    "#         u'\\(-\"-\\)':\"Worried\",\n",
    "#         u\"\\(ーー;\\)\":\"Worried\",\n",
    "#         u\"\\(\\^0_0\\^\\)\":\"Eyeglasses\",\n",
    "#         u\"\\(\\＾ｖ\\＾\\)\":\"Happy\",\n",
    "#         u\"\\(\\＾ｕ\\＾\\)\":\"Happy\",\n",
    "#         u\"\\(\\^\\)o\\(\\^\\)\":\"Happy\",\n",
    "#         u\"\\(\\^O\\^\\)\":\"Happy\",\n",
    "#         u\"\\(\\^o\\^\\)\":\"Happy\",\n",
    "#         u\"\\)\\^o\\^\\(\":\"Happy\",\n",
    "#         u\":O o_O\":\"Surprised\",\n",
    "#         u\"o_0\":\"Surprised\",\n",
    "#         u\"o\\.O\":\"Surpised\",\n",
    "#         u\"\\(o\\.o\\)\":\"Surprised\",\n",
    "#         u\"oO\":\"Surprised\",\n",
    "#         u\"\\(\\*￣m￣\\)\":\"Dissatisfied\",\n",
    "#         u\"\\(‘A`\\)\":\"Snubbed or Deflated\"\n",
    "#     }\n",
    "#     emoticon_pattern = re.compile(u'(' + u'|'.join(k for k in emoticons) + u')')\n",
    "#     return emoticon_pattern.sub(r'', text)\n",
    "\n",
    "# def remove_mentions(text):\n",
    "#     mentions = re.compile('@[A-Za-z0-9_]+')\n",
    "#     return mentions.sub(r'', text)\n",
    "\n",
    "# nlp = spacy.load('en_core_web_sm', disable=['parser', 'ner'])\n",
    "# def lemmatization(text):\n",
    "#     doc = nlp(text)    \n",
    "#     doc = \" \".join([token.lemma_ for token in doc])\n",
    "#     doc = doc.replace(\"\\n\", \"\")\n",
    "#     return doc\n",
    "\n",
    "# df['review_description'] = df['review_description'].str.lower() # convert to lowercase\n",
    "# print(\"Lowercasing Done!!\")\n",
    "\n",
    "# df['review_description'] = df['review_description'].apply(lambda text: remove_urls(text)) # remove URLs\n",
    "# print(\"URL Removal Done!!\")\n",
    "\n",
    "# df['review_description'] = df['review_description'].apply(lambda text: remove_HTML(text)) # remove HTML tags\n",
    "# print(\"HTML Removal Done!!\")\n",
    "\n",
    "# df['review_description'] = df['review_description'].str.translate(str.maketrans('', '', string.punctuation)) # remove punctuations\n",
    "# print(\"Punctuation Removal Done!!\")\n",
    "\n",
    "# df['review_description'] = df['review_description'].apply(lambda text: ' '.join([word for word in str(text).split() if word not in stop_words])) # remove stopwords\n",
    "# print(\"Stopwords Removal Done!!\")\n",
    "\n",
    "# df['review_description'] = df['review_description'].apply(lambda text: remove_emoji(text)) # remove emojis\n",
    "# print(\"Emoji Removal Done!!\")\n",
    "\n",
    "# df['review_description'] = df['review_description'].apply(lambda text: remove_emoticons(text)) # remove emoticons\n",
    "# print(\"Emoticon Removal Done!!\")\n",
    "\n",
    "# df['review_description'] = df['review_description'].apply(lambda text: remove_mentions(text)) # remove mentions\n",
    "# print(\"Mention Removal Done!!\")\n",
    "\n",
    "# df['review_description'] = df['review_description'].apply(lambda text: lemmatization(text)) # lemmatizing the words\n",
    "# print(\"Word Lemmatization Done!!\")\n",
    "\n",
    "# # df['review_description'] = df['review_description'].apply(lambda text: th.cont_exp(text)) # convert i'm to i am, you're to you are, etc\n",
    "\n",
    "# print(\"Preprocessed Data:\")\n",
    "# df['review_description']"
   ]
  },
  {
   "cell_type": "code",
   "execution_count": 12,
   "id": "03f68697",
   "metadata": {
    "execution": {
     "iopub.execute_input": "2023-03-19T08:48:54.601019Z",
     "iopub.status.busy": "2023-03-19T08:48:54.600735Z",
     "iopub.status.idle": "2023-03-19T08:48:54.604673Z",
     "shell.execute_reply": "2023-03-19T08:48:54.603672Z"
    },
    "papermill": {
     "duration": 0.015013,
     "end_time": "2023-03-19T08:48:54.606962",
     "exception": false,
     "start_time": "2023-03-19T08:48:54.591949",
     "status": "completed"
    },
    "tags": []
   },
   "outputs": [],
   "source": [
    "# df.to_csv('preprocessed_dataset_original.csv',\n",
    "#                 index = False, encoding = 'utf-8-sig')\n",
    "# print(\"Preprocessed Dataframe Saved!!\")"
   ]
  },
  {
   "cell_type": "code",
   "execution_count": 13,
   "id": "ee8d797a",
   "metadata": {
    "execution": {
     "iopub.execute_input": "2023-03-19T08:48:54.625403Z",
     "iopub.status.busy": "2023-03-19T08:48:54.624619Z",
     "iopub.status.idle": "2023-03-19T08:48:54.628939Z",
     "shell.execute_reply": "2023-03-19T08:48:54.628081Z"
    },
    "papermill": {
     "duration": 0.015777,
     "end_time": "2023-03-19T08:48:54.631148",
     "exception": false,
     "start_time": "2023-03-19T08:48:54.615371",
     "status": "completed"
    },
    "tags": []
   },
   "outputs": [],
   "source": [
    "# df['rating'].value_counts()"
   ]
  },
  {
   "cell_type": "code",
   "execution_count": 14,
   "id": "7c34277e",
   "metadata": {
    "execution": {
     "iopub.execute_input": "2023-03-19T08:48:54.648219Z",
     "iopub.status.busy": "2023-03-19T08:48:54.647949Z",
     "iopub.status.idle": "2023-03-19T08:48:56.931159Z",
     "shell.execute_reply": "2023-03-19T08:48:56.929465Z"
    },
    "papermill": {
     "duration": 2.295676,
     "end_time": "2023-03-19T08:48:56.934715",
     "exception": false,
     "start_time": "2023-03-19T08:48:54.639039",
     "status": "completed"
    },
    "tags": []
   },
   "outputs": [
    {
     "data": {
      "text/html": [
       "<div>\n",
       "<style scoped>\n",
       "    .dataframe tbody tr th:only-of-type {\n",
       "        vertical-align: middle;\n",
       "    }\n",
       "\n",
       "    .dataframe tbody tr th {\n",
       "        vertical-align: top;\n",
       "    }\n",
       "\n",
       "    .dataframe thead th {\n",
       "        text-align: right;\n",
       "    }\n",
       "</style>\n",
       "<table border=\"1\" class=\"dataframe\">\n",
       "  <thead>\n",
       "    <tr style=\"text-align: right;\">\n",
       "      <th></th>\n",
       "      <th>review_description</th>\n",
       "      <th>rating</th>\n",
       "    </tr>\n",
       "  </thead>\n",
       "  <tbody>\n",
       "    <tr>\n",
       "      <th>0</th>\n",
       "      <td>find first cousin dad side god send last gener...</td>\n",
       "      <td>5.0</td>\n",
       "    </tr>\n",
       "    <tr>\n",
       "      <th>1</th>\n",
       "      <td>love 23andme app well explain step process sen...</td>\n",
       "      <td>5.0</td>\n",
       "    </tr>\n",
       "    <tr>\n",
       "      <th>2</th>\n",
       "      <td>overall it ’ good app user friendly part beaut...</td>\n",
       "      <td>3.0</td>\n",
       "    </tr>\n",
       "    <tr>\n",
       "      <th>3</th>\n",
       "      <td>it ’ good app could have not figure scroll pho...</td>\n",
       "      <td>4.0</td>\n",
       "    </tr>\n",
       "    <tr>\n",
       "      <th>4</th>\n",
       "      <td>past couple update 23andme increasingly make a...</td>\n",
       "      <td>2.0</td>\n",
       "    </tr>\n",
       "    <tr>\n",
       "      <th>...</th>\n",
       "      <td>...</td>\n",
       "      <td>...</td>\n",
       "    </tr>\n",
       "    <tr>\n",
       "      <th>597263</th>\n",
       "      <td>love app happen upon app search new fun game a...</td>\n",
       "      <td>5.0</td>\n",
       "    </tr>\n",
       "    <tr>\n",
       "      <th>597264</th>\n",
       "      <td>dziala idealniebardzo pomocna fajna</td>\n",
       "      <td>5.0</td>\n",
       "    </tr>\n",
       "    <tr>\n",
       "      <th>597265</th>\n",
       "      <td>do not take account proportion size seem inacc...</td>\n",
       "      <td>1.0</td>\n",
       "    </tr>\n",
       "    <tr>\n",
       "      <th>597266</th>\n",
       "      <td>think app great first show friend demonstrate ...</td>\n",
       "      <td>1.0</td>\n",
       "    </tr>\n",
       "    <tr>\n",
       "      <th>597267</th>\n",
       "      <td>yuka app world desperately need shed light ont...</td>\n",
       "      <td>5.0</td>\n",
       "    </tr>\n",
       "  </tbody>\n",
       "</table>\n",
       "<p>597268 rows × 2 columns</p>\n",
       "</div>"
      ],
      "text/plain": [
       "                                       review_description  rating\n",
       "0       find first cousin dad side god send last gener...     5.0\n",
       "1       love 23andme app well explain step process sen...     5.0\n",
       "2       overall it ’ good app user friendly part beaut...     3.0\n",
       "3       it ’ good app could have not figure scroll pho...     4.0\n",
       "4       past couple update 23andme increasingly make a...     2.0\n",
       "...                                                   ...     ...\n",
       "597263  love app happen upon app search new fun game a...     5.0\n",
       "597264                dziala idealniebardzo pomocna fajna     5.0\n",
       "597265  do not take account proportion size seem inacc...     1.0\n",
       "597266  think app great first show friend demonstrate ...     1.0\n",
       "597267  yuka app world desperately need shed light ont...     5.0\n",
       "\n",
       "[597268 rows x 2 columns]"
      ]
     },
     "execution_count": 14,
     "metadata": {},
     "output_type": "execute_result"
    }
   ],
   "source": [
    "df = pd.read_csv('/kaggle/input/nlp-ios-research-user-comments/preprocessed_dataset_original.csv', encoding = 'utf-8-sig')\n",
    "df"
   ]
  },
  {
   "cell_type": "code",
   "execution_count": 15,
   "id": "de41c4d5",
   "metadata": {
    "execution": {
     "iopub.execute_input": "2023-03-19T08:48:56.967631Z",
     "iopub.status.busy": "2023-03-19T08:48:56.967229Z",
     "iopub.status.idle": "2023-03-19T08:48:56.976139Z",
     "shell.execute_reply": "2023-03-19T08:48:56.975235Z"
    },
    "papermill": {
     "duration": 0.02614,
     "end_time": "2023-03-19T08:48:56.978858",
     "exception": false,
     "start_time": "2023-03-19T08:48:56.952718",
     "status": "completed"
    },
    "tags": []
   },
   "outputs": [],
   "source": [
    "# bbox_args = dict(boxstyle = 'round', fc = '0.9')\n",
    "\n",
    "# def generate_ngrams(text, n_gram = 0):\n",
    "#     token = [token for token in str(text).lower().split(' ') if token != '' if token not in stop_words]\n",
    "#     ngrams = zip(*[token[i:] for i in range(n_gram)])\n",
    "#     return [' '.join(ngram) for ngram in ngrams]\n",
    "\n",
    "# def generate_ngram_dictionary(n_gram):\n",
    "#     dataset_ngrams = defaultdict(int)\n",
    "    \n",
    "#     for review in df['review_description']:\n",
    "#         for word in generate_ngrams(review, n_gram = n_gram):\n",
    "#             dataset_ngrams[word] += 1\n",
    "            \n",
    "#     dataset_ngrams = dict(sorted(dataset_ngrams.items(), key = lambda x: x[1], reverse = True)[:10])\n",
    "#     dataset_ngram_words = list(dataset_ngrams.keys())\n",
    "#     dataset_ngram_freq = list(dataset_ngrams.values())\n",
    "    \n",
    "#     return dataset_ngrams, dataset_ngram_words, dataset_ngram_freq\n",
    "\n",
    "# def generate_ngram_barplot(dataset_ngram_freq, dataset_ngram_words, type_of_ngram):\n",
    "#     plt.figure(figsize = (15, 10))\n",
    "#     ax = plt.axes()\n",
    "#     ax = sns.barplot(x = dataset_ngram_freq, y = dataset_ngram_words)\n",
    "#     plt.title(type_of_ngram.title(), fontsize = 25)\n",
    "#     plt.xlabel('Count', fontsize = 20)\n",
    "#     plt.ylabel('Words', fontsize = 20)\n",
    "#     ax.xaxis.set_tick_params(labelsize = 15)\n",
    "#     ax.yaxis.set_tick_params(labelsize = 15)\n",
    "#     for p in ax.patches:\n",
    "#             width = p.get_width()\n",
    "#             ax.text(0.75 + p.get_width(), p.get_y() + 0.5 * p.get_height(), '{:1.0f}'.format(width), \n",
    "#                      ha = 'center', \n",
    "#                      va = 'center', \n",
    "#                      bbox = bbox_args, \n",
    "#                      fontsize = 15)\n",
    "#     plt.show()\n",
    "\n",
    "# _, dataset_unigram_words, dataset_unigram_freq = generate_ngram_dictionary(1)\n",
    "# _, dataset_bigram_words, dataset_bigram_freq = generate_ngram_dictionary(2)\n",
    "# _, dataset_trigram_words, dataset_trigram_freq = generate_ngram_dictionary(3)\n",
    "\n",
    "# generate_ngram_barplot(dataset_unigram_freq, dataset_unigram_words, 'unigram')\n",
    "# generate_ngram_barplot(dataset_bigram_freq, dataset_bigram_words, 'bigram')\n",
    "# generate_ngram_barplot(dataset_trigram_freq, dataset_trigram_words, 'trigram')"
   ]
  },
  {
   "cell_type": "code",
   "execution_count": 16,
   "id": "44d1b3d6",
   "metadata": {
    "execution": {
     "iopub.execute_input": "2023-03-19T08:48:57.004450Z",
     "iopub.status.busy": "2023-03-19T08:48:57.004126Z",
     "iopub.status.idle": "2023-03-19T08:48:57.008314Z",
     "shell.execute_reply": "2023-03-19T08:48:57.007436Z"
    },
    "papermill": {
     "duration": 0.021308,
     "end_time": "2023-03-19T08:48:57.012391",
     "exception": false,
     "start_time": "2023-03-19T08:48:56.991083",
     "status": "completed"
    },
    "tags": []
   },
   "outputs": [],
   "source": [
    "# wordcloud = WordCloud(width = 1400, height = 600, background_color = 'black').generate(''.join(str(text) for text in df['review_description']))\n",
    "# plt.figure(figsize = (20, 10))\n",
    "# plt.title('Wordcloud Visualization of reviews', fontsize = 25)\n",
    "# plt.imshow(wordcloud)\n",
    "# plt.axis('off')\n",
    "# plt.show()"
   ]
  },
  {
   "cell_type": "code",
   "execution_count": 17,
   "id": "834e79c5",
   "metadata": {
    "execution": {
     "iopub.execute_input": "2023-03-19T08:48:57.038021Z",
     "iopub.status.busy": "2023-03-19T08:48:57.037663Z",
     "iopub.status.idle": "2023-03-19T08:48:57.041661Z",
     "shell.execute_reply": "2023-03-19T08:48:57.040808Z"
    },
    "papermill": {
     "duration": 0.02113,
     "end_time": "2023-03-19T08:48:57.045812",
     "exception": false,
     "start_time": "2023-03-19T08:48:57.024682",
     "status": "completed"
    },
    "tags": []
   },
   "outputs": [],
   "source": [
    "# y = df['rating']\n",
    "\n",
    "# class_weights = compute_class_weight(class_weight='balanced', classes=np.unique(y), y=y)\n",
    "# class_weights = torch.tensor(class_weights, dtype=torch.float)\n",
    " \n",
    "# print(class_weights)"
   ]
  },
  {
   "cell_type": "code",
   "execution_count": 18,
   "id": "78af1402",
   "metadata": {
    "execution": {
     "iopub.execute_input": "2023-03-19T08:48:57.071163Z",
     "iopub.status.busy": "2023-03-19T08:48:57.070843Z",
     "iopub.status.idle": "2023-03-19T08:48:57.092362Z",
     "shell.execute_reply": "2023-03-19T08:48:57.091440Z"
    },
    "papermill": {
     "duration": 0.037234,
     "end_time": "2023-03-19T08:48:57.095184",
     "exception": false,
     "start_time": "2023-03-19T08:48:57.057950",
     "status": "completed"
    },
    "tags": []
   },
   "outputs": [
    {
     "data": {
      "text/plain": [
       "0         5\n",
       "1         5\n",
       "2         3\n",
       "3         4\n",
       "4         2\n",
       "         ..\n",
       "597263    5\n",
       "597264    5\n",
       "597265    1\n",
       "597266    1\n",
       "597267    5\n",
       "Name: rating, Length: 597268, dtype: int64"
      ]
     },
     "execution_count": 18,
     "metadata": {},
     "output_type": "execute_result"
    }
   ],
   "source": [
    "df['rating'] = df['rating'].astype('int')\n",
    "df['rating']"
   ]
  },
  {
   "cell_type": "code",
   "execution_count": 19,
   "id": "0a5533fb",
   "metadata": {
    "execution": {
     "iopub.execute_input": "2023-03-19T08:48:57.123310Z",
     "iopub.status.busy": "2023-03-19T08:48:57.122988Z",
     "iopub.status.idle": "2023-03-19T08:48:57.141199Z",
     "shell.execute_reply": "2023-03-19T08:48:57.140357Z"
    },
    "papermill": {
     "duration": 0.034952,
     "end_time": "2023-03-19T08:48:57.144012",
     "exception": false,
     "start_time": "2023-03-19T08:48:57.109060",
     "status": "completed"
    },
    "tags": []
   },
   "outputs": [
    {
     "data": {
      "text/plain": [
       "5    324133\n",
       "1    114532\n",
       "4     76027\n",
       "3     44915\n",
       "2     37661\n",
       "Name: rating, dtype: int64"
      ]
     },
     "execution_count": 19,
     "metadata": {},
     "output_type": "execute_result"
    }
   ],
   "source": [
    "df['rating'].value_counts()"
   ]
  },
  {
   "cell_type": "code",
   "execution_count": 20,
   "id": "36c14508",
   "metadata": {
    "execution": {
     "iopub.execute_input": "2023-03-19T08:48:57.171726Z",
     "iopub.status.busy": "2023-03-19T08:48:57.171316Z",
     "iopub.status.idle": "2023-03-19T08:48:57.232540Z",
     "shell.execute_reply": "2023-03-19T08:48:57.231462Z"
    },
    "papermill": {
     "duration": 0.079059,
     "end_time": "2023-03-19T08:48:57.235807",
     "exception": false,
     "start_time": "2023-03-19T08:48:57.156748",
     "status": "completed"
    },
    "tags": []
   },
   "outputs": [
    {
     "name": "stdout",
     "output_type": "stream",
     "text": [
      "4    324133\n",
      "0    114532\n",
      "3     76027\n",
      "2     44915\n",
      "1     37661\n",
      "Name: rating, dtype: int64\n"
     ]
    }
   ],
   "source": [
    "le = LabelEncoder()\n",
    "df[\"rating\"] = le.fit_transform(df[\"rating\"])\n",
    "# print(le.classes_)\n",
    "print(df[\"rating\"].value_counts())"
   ]
  },
  {
   "cell_type": "code",
   "execution_count": 21,
   "id": "e2239f7f",
   "metadata": {
    "execution": {
     "iopub.execute_input": "2023-03-19T08:48:57.267439Z",
     "iopub.status.busy": "2023-03-19T08:48:57.267022Z",
     "iopub.status.idle": "2023-03-19T08:48:57.493817Z",
     "shell.execute_reply": "2023-03-19T08:48:57.491905Z"
    },
    "papermill": {
     "duration": 0.246611,
     "end_time": "2023-03-19T08:48:57.497799",
     "exception": false,
     "start_time": "2023-03-19T08:48:57.251188",
     "status": "completed"
    },
    "tags": []
   },
   "outputs": [
    {
     "name": "stdout",
     "output_type": "stream",
     "text": [
      "Train shape: (536697, 2)\n",
      "Validation shape: (29816, 2)\n",
      "Test shape: (29817, 2)\n"
     ]
    }
   ],
   "source": [
    "df = df.dropna()\n",
    "\n",
    "df_train, df_test = train_test_split(df, test_size = 0.1, random_state = RANDOM_SEED)\n",
    "df_val, df_test = train_test_split(df_test, test_size = 0.5, random_state = RANDOM_SEED)\n",
    "print(f'Train shape: {df_train.shape}')\n",
    "print(f'Validation shape: {df_val.shape}')\n",
    "print(f'Test shape: {df_test.shape}')"
   ]
  },
  {
   "cell_type": "code",
   "execution_count": 22,
   "id": "50ebcc37",
   "metadata": {
    "execution": {
     "iopub.execute_input": "2023-03-19T08:48:57.530600Z",
     "iopub.status.busy": "2023-03-19T08:48:57.530202Z",
     "iopub.status.idle": "2023-03-19T08:49:09.925971Z",
     "shell.execute_reply": "2023-03-19T08:49:09.924641Z"
    },
    "papermill": {
     "duration": 12.414037,
     "end_time": "2023-03-19T08:49:09.928588",
     "exception": false,
     "start_time": "2023-03-19T08:48:57.514551",
     "status": "completed"
    },
    "tags": []
   },
   "outputs": [
    {
     "data": {
      "application/vnd.jupyter.widget-view+json": {
       "model_id": "873d8855367b4d08b33c78989ba5c06a",
       "version_major": 2,
       "version_minor": 0
      },
      "text/plain": [
       "Downloading (…)solve/main/vocab.txt:   0%|          | 0.00/232k [00:00<?, ?B/s]"
      ]
     },
     "metadata": {},
     "output_type": "display_data"
    },
    {
     "data": {
      "application/vnd.jupyter.widget-view+json": {
       "model_id": "8a363bba9b474f0ba2f82ec5c2506809",
       "version_major": 2,
       "version_minor": 0
      },
      "text/plain": [
       "Downloading (…)okenizer_config.json:   0%|          | 0.00/29.0 [00:00<?, ?B/s]"
      ]
     },
     "metadata": {},
     "output_type": "display_data"
    },
    {
     "data": {
      "application/vnd.jupyter.widget-view+json": {
       "model_id": "bf15649514754cec8dce9b5f84be2bc9",
       "version_major": 2,
       "version_minor": 0
      },
      "text/plain": [
       "Downloading (…)lve/main/config.json:   0%|          | 0.00/665 [00:00<?, ?B/s]"
      ]
     },
     "metadata": {},
     "output_type": "display_data"
    },
    {
     "data": {
      "application/vnd.jupyter.widget-view+json": {
       "model_id": "e664fb820c4e40129a98c82e0a950d28",
       "version_major": 2,
       "version_minor": 0
      },
      "text/plain": [
       "Downloading (…)\"pytorch_model.bin\";:   0%|          | 0.00/54.2M [00:00<?, ?B/s]"
      ]
     },
     "metadata": {},
     "output_type": "display_data"
    },
    {
     "name": "stderr",
     "output_type": "stream",
     "text": [
      "Some weights of the model checkpoint at google/electra-small-discriminator were not used when initializing ElectraModel: ['discriminator_predictions.dense.weight', 'discriminator_predictions.dense_prediction.weight', 'discriminator_predictions.dense.bias', 'discriminator_predictions.dense_prediction.bias']\n",
      "- This IS expected if you are initializing ElectraModel from the checkpoint of a model trained on another task or with another architecture (e.g. initializing a BertForSequenceClassification model from a BertForPreTraining model).\n",
      "- This IS NOT expected if you are initializing ElectraModel from the checkpoint of a model that you expect to be exactly identical (initializing a BertForSequenceClassification model from a BertForSequenceClassification model).\n"
     ]
    }
   ],
   "source": [
    "tokenizer = ElectraTokenizer.from_pretrained(Config.MODEL_NAMES[3])\n",
    "model = ElectraModel.from_pretrained(Config.MODEL_NAMES[3])"
   ]
  },
  {
   "cell_type": "code",
   "execution_count": 23,
   "id": "97b7a49f",
   "metadata": {
    "execution": {
     "iopub.execute_input": "2023-03-19T08:49:09.953067Z",
     "iopub.status.busy": "2023-03-19T08:49:09.951857Z",
     "iopub.status.idle": "2023-03-19T08:49:09.961210Z",
     "shell.execute_reply": "2023-03-19T08:49:09.960228Z"
    },
    "papermill": {
     "duration": 0.024568,
     "end_time": "2023-03-19T08:49:09.963690",
     "exception": false,
     "start_time": "2023-03-19T08:49:09.939122",
     "status": "completed"
    },
    "tags": []
   },
   "outputs": [],
   "source": [
    "class UserReviewDataset(Dataset):\n",
    "    \n",
    "    def __init__(self, reviews, targets, tokenizer, max_len):\n",
    "        self.reviews = reviews\n",
    "        self.targets = targets\n",
    "        self.tokenizer = tokenizer\n",
    "        self.max_len = max_len\n",
    "    \n",
    "    def __len__(self):\n",
    "        return len(self.reviews)\n",
    "    \n",
    "    def __getitem__(self, i):\n",
    "        review = str(self.reviews[i])\n",
    "        target = self.targets[i]\n",
    "        \n",
    "        encoding = self.tokenizer.encode_plus(\n",
    "            review,\n",
    "            max_length = self.max_len,\n",
    "            truncation = True,\n",
    "            add_special_tokens = True,\n",
    "            return_token_type_ids = False,\n",
    "            pad_to_max_length = True,\n",
    "            return_attention_mask = True,\n",
    "            return_tensors = 'pt'\n",
    "        )\n",
    "        \n",
    "        return {\n",
    "            \"review\": review,\n",
    "            \"input_ids\": encoding[\"input_ids\"].flatten(),\n",
    "            \"attention_mask\": encoding[\"attention_mask\"].flatten(),\n",
    "            \"targets\": torch.tensor(target, dtype = torch.long)\n",
    "        }"
   ]
  },
  {
   "cell_type": "code",
   "execution_count": 24,
   "id": "cc724e04",
   "metadata": {
    "execution": {
     "iopub.execute_input": "2023-03-19T08:49:09.984561Z",
     "iopub.status.busy": "2023-03-19T08:49:09.984253Z",
     "iopub.status.idle": "2023-03-19T08:49:09.992380Z",
     "shell.execute_reply": "2023-03-19T08:49:09.991282Z"
    },
    "papermill": {
     "duration": 0.020419,
     "end_time": "2023-03-19T08:49:09.994383",
     "exception": false,
     "start_time": "2023-03-19T08:49:09.973964",
     "status": "completed"
    },
    "tags": []
   },
   "outputs": [],
   "source": [
    "def create_dataloader(df, tokenizer, max_len, batch_size):\n",
    "    \n",
    "    ds = UserReviewDataset(\n",
    "        reviews = df[\"review_description\"].to_numpy(),\n",
    "        targets = df[\"rating\"].to_numpy(),\n",
    "        tokenizer = tokenizer,\n",
    "        max_len = max_len\n",
    "    )\n",
    "    \n",
    "    return DataLoader(\n",
    "        ds,\n",
    "        batch_size = batch_size,\n",
    "        num_workers = 8\n",
    "    )\n",
    "\n",
    "train_data_loader = create_dataloader(df_train, tokenizer, Config.MAX_LEN, Config.BATCH_SIZE)\n",
    "val_data_loader = create_dataloader(df_val, tokenizer, Config.MAX_LEN, Config.BATCH_SIZE)\n",
    "test_data_loader = create_dataloader(df_test, tokenizer, Config.MAX_LEN, Config.BATCH_SIZE)"
   ]
  },
  {
   "cell_type": "code",
   "execution_count": 25,
   "id": "8a78644e",
   "metadata": {
    "execution": {
     "iopub.execute_input": "2023-03-19T08:49:10.014489Z",
     "iopub.status.busy": "2023-03-19T08:49:10.013595Z",
     "iopub.status.idle": "2023-03-19T08:49:10.021317Z",
     "shell.execute_reply": "2023-03-19T08:49:10.020288Z"
    },
    "papermill": {
     "duration": 0.0199,
     "end_time": "2023-03-19T08:49:10.023445",
     "exception": false,
     "start_time": "2023-03-19T08:49:10.003545",
     "status": "completed"
    },
    "tags": []
   },
   "outputs": [],
   "source": [
    "class ELECTRA(nn.Module):\n",
    "    \n",
    "    def __init__(self, n_classes):\n",
    "        super(ELECTRA, self).__init__()\n",
    "        self.bert = ElectraModel.from_pretrained(Config.MODEL_NAMES[3])\n",
    "        self.classifier = nn.Sequential(\n",
    "            nn.Dropout(p = 0.25),\n",
    "            nn.BatchNorm1d(self.bert.config.hidden_size),\n",
    "            nn.Linear(self.bert.config.hidden_size, 32),\n",
    "            nn.ReLU(inplace = True),\n",
    "            nn.Linear(32, n_classes)\n",
    "        )\n",
    "        \n",
    "    def forward(self, input_ids, attention_mask):\n",
    "        output = self.bert(input_ids = input_ids, attention_mask = attention_mask)\n",
    "        last_hidden_state = output.last_hidden_state\n",
    "        cls_token_state = last_hidden_state[:, 0, :]\n",
    "        logits = self.classifier(cls_token_state)\n",
    "        return logits"
   ]
  },
  {
   "cell_type": "code",
   "execution_count": 26,
   "id": "4261b8a9",
   "metadata": {
    "execution": {
     "iopub.execute_input": "2023-03-19T08:49:10.042864Z",
     "iopub.status.busy": "2023-03-19T08:49:10.042566Z",
     "iopub.status.idle": "2023-03-19T08:49:11.099867Z",
     "shell.execute_reply": "2023-03-19T08:49:11.098863Z"
    },
    "papermill": {
     "duration": 1.069773,
     "end_time": "2023-03-19T08:49:11.102505",
     "exception": false,
     "start_time": "2023-03-19T08:49:10.032732",
     "status": "completed"
    },
    "tags": []
   },
   "outputs": [
    {
     "name": "stderr",
     "output_type": "stream",
     "text": [
      "Some weights of the model checkpoint at google/electra-small-discriminator were not used when initializing ElectraModel: ['discriminator_predictions.dense.weight', 'discriminator_predictions.dense_prediction.weight', 'discriminator_predictions.dense.bias', 'discriminator_predictions.dense_prediction.bias']\n",
      "- This IS expected if you are initializing ElectraModel from the checkpoint of a model trained on another task or with another architecture (e.g. initializing a BertForSequenceClassification model from a BertForPreTraining model).\n",
      "- This IS NOT expected if you are initializing ElectraModel from the checkpoint of a model that you expect to be exactly identical (initializing a BertForSequenceClassification model from a BertForSequenceClassification model).\n"
     ]
    }
   ],
   "source": [
    "model = ELECTRA(len(le.classes_))\n",
    "model = model.to(DEVICE)"
   ]
  },
  {
   "cell_type": "code",
   "execution_count": 27,
   "id": "5fdabe03",
   "metadata": {
    "execution": {
     "iopub.execute_input": "2023-03-19T08:49:11.122345Z",
     "iopub.status.busy": "2023-03-19T08:49:11.122038Z",
     "iopub.status.idle": "2023-03-19T08:49:11.131569Z",
     "shell.execute_reply": "2023-03-19T08:49:11.130679Z"
    },
    "papermill": {
     "duration": 0.021665,
     "end_time": "2023-03-19T08:49:11.133697",
     "exception": false,
     "start_time": "2023-03-19T08:49:11.112032",
     "status": "completed"
    },
    "tags": []
   },
   "outputs": [],
   "source": [
    "optimizer = AdamW(model.parameters(), lr = 2e-5, eps = 5e-8, correct_bias = False)\n",
    "total_steps = len(train_data_loader) * Config.EPOCHS\n",
    "scheduler = get_linear_schedule_with_warmup(\n",
    "  optimizer,\n",
    "  num_warmup_steps = 0,\n",
    "  num_training_steps = total_steps\n",
    ")\n",
    "loss_fn = nn.CrossEntropyLoss().to(DEVICE)"
   ]
  },
  {
   "cell_type": "code",
   "execution_count": 28,
   "id": "63616628",
   "metadata": {
    "execution": {
     "iopub.execute_input": "2023-03-19T08:49:11.153048Z",
     "iopub.status.busy": "2023-03-19T08:49:11.152516Z",
     "iopub.status.idle": "2023-03-19T08:49:11.159939Z",
     "shell.execute_reply": "2023-03-19T08:49:11.158926Z"
    },
    "papermill": {
     "duration": 0.01947,
     "end_time": "2023-03-19T08:49:11.162042",
     "exception": false,
     "start_time": "2023-03-19T08:49:11.142572",
     "status": "completed"
    },
    "tags": []
   },
   "outputs": [],
   "source": [
    "def train_epoch(model, data_loader, loss_fn, optimizer, device, scheduler, n_examples):\n",
    "    \n",
    "    model = model.train()\n",
    "    \n",
    "    losses = []\n",
    "    correct_predictions = 0\n",
    "    \n",
    "    for i in data_loader:\n",
    "        input_ids = i[\"input_ids\"].to(DEVICE)\n",
    "        attention_mask = i[\"attention_mask\"].to(DEVICE)\n",
    "        targets = i[\"targets\"].to(DEVICE)\n",
    "        \n",
    "        outputs = model(input_ids = input_ids, attention_mask = attention_mask)\n",
    "    \n",
    "        _, preds = torch.max(outputs, dim = 1)\n",
    "        loss = loss_fn(outputs, targets)\n",
    "\n",
    "        correct_predictions += torch.sum(preds == targets)\n",
    "        losses.append(loss.item())\n",
    "\n",
    "        loss.backward()\n",
    "        nn.utils.clip_grad_norm_(model.parameters(), max_norm = 1.0)\n",
    "        optimizer.step()\n",
    "        scheduler.step()\n",
    "        optimizer.zero_grad()\n",
    "    \n",
    "    return correct_predictions.double() / n_examples, np.mean(losses)"
   ]
  },
  {
   "cell_type": "code",
   "execution_count": 29,
   "id": "be1d5cb5",
   "metadata": {
    "execution": {
     "iopub.execute_input": "2023-03-19T08:49:11.182006Z",
     "iopub.status.busy": "2023-03-19T08:49:11.181093Z",
     "iopub.status.idle": "2023-03-19T08:49:11.188723Z",
     "shell.execute_reply": "2023-03-19T08:49:11.187866Z"
    },
    "papermill": {
     "duration": 0.019635,
     "end_time": "2023-03-19T08:49:11.190798",
     "exception": false,
     "start_time": "2023-03-19T08:49:11.171163",
     "status": "completed"
    },
    "tags": []
   },
   "outputs": [],
   "source": [
    "def eval_model(model, data_loader, loss_fn, device, n_examples):\n",
    "    \n",
    "    model = model.eval()\n",
    "    \n",
    "    losses = []\n",
    "    correct_predictions = 0\n",
    "    \n",
    "    with torch.no_grad():\n",
    "        for i in data_loader:\n",
    "            input_ids = i[\"input_ids\"].to(device)\n",
    "            attention_mask = i[\"attention_mask\"].to(device)\n",
    "            targets = i[\"targets\"].to(device)\n",
    "            \n",
    "            outputs = model(input_ids = input_ids, attention_mask = attention_mask)\n",
    "            \n",
    "            _, preds = torch.max(outputs, dim = 1)\n",
    "            \n",
    "            loss = loss_fn(outputs, targets)\n",
    "            \n",
    "            correct_predictions += torch.sum(preds == targets)\n",
    "            losses.append(loss.item())\n",
    "            \n",
    "    return correct_predictions.double() / n_examples, np.mean(losses)"
   ]
  },
  {
   "cell_type": "code",
   "execution_count": 30,
   "id": "02c80440",
   "metadata": {
    "execution": {
     "iopub.execute_input": "2023-03-19T08:49:11.210411Z",
     "iopub.status.busy": "2023-03-19T08:49:11.209563Z",
     "iopub.status.idle": "2023-03-19T09:36:04.650329Z",
     "shell.execute_reply": "2023-03-19T09:36:04.648791Z"
    },
    "papermill": {
     "duration": 2813.452955,
     "end_time": "2023-03-19T09:36:04.652649",
     "exception": false,
     "start_time": "2023-03-19T08:49:11.199694",
     "status": "completed"
    },
    "tags": []
   },
   "outputs": [
    {
     "name": "stdout",
     "output_type": "stream",
     "text": [
      "Training electra-small-discriminator\n",
      "Epoch 1 / 3\n",
      "==========\n",
      "Train loss: 0.8030751013660556\n",
      "Train accuracy: 0.70297765778456\n",
      "\n",
      "Val loss: 0.7415326821573814\n",
      "Val accuracy: 0.7222296753420981\n",
      "\n",
      "Epoch 2 / 3\n",
      "==========\n",
      "Train loss: 0.7406223848757072\n",
      "Train accuracy: 0.723054162777135\n",
      "\n",
      "Val loss: 0.7252305934101727\n",
      "Val accuracy: 0.7259860477595921\n",
      "\n",
      "Epoch 3 / 3\n",
      "==========\n",
      "Train loss: 0.7195113251808006\n",
      "Train accuracy: 0.7304028157414706\n",
      "\n",
      "Val loss: 0.721789391959174\n",
      "Val accuracy: 0.7296753420982023\n",
      "\n",
      "CPU times: user 42min 59s, sys: 19.5 s, total: 43min 18s\n",
      "Wall time: 46min 53s\n"
     ]
    }
   ],
   "source": [
    "%%time\n",
    "\n",
    "history = defaultdict(list)\n",
    "best_accuracy = 0\n",
    "model_name = Config.MODEL_NAMES[3]\n",
    "model_name = model_name.split('/')[-1]\n",
    "print(f\"Training {model_name}\")\n",
    "\n",
    "for epoch in range(Config.EPOCHS):\n",
    "    print(f'Epoch {epoch + 1} / {Config.EPOCHS}')\n",
    "    print('=' * 10)\n",
    "\n",
    "    train_acc, train_loss = train_epoch(model, train_data_loader, loss_fn, optimizer, DEVICE, scheduler, len(df_train))\n",
    "    print(f'Train loss: {train_loss}\\nTrain accuracy: {train_acc}\\n')\n",
    "\n",
    "    val_acc, val_loss = eval_model(model, val_data_loader, loss_fn, DEVICE, len(df_val))\n",
    "    print(f'Val loss: {val_loss}\\nVal accuracy: {val_acc}\\n')\n",
    "    \n",
    "#     print(f'Learning Rate: {scheduler.get_last_lr()}\\n')\n",
    "\n",
    "    history['train_acc'].append(train_acc)\n",
    "    history['train_loss'].append(train_loss)\n",
    "    history['val_acc'].append(val_acc)\n",
    "    history['val_loss'].append(val_loss)    \n",
    "    \n",
    "    if(val_acc > best_accuracy):\n",
    "        torch.save(model.state_dict(), \n",
    "                   f'{model_name}_epochs_{Config.EPOCHS}_maxlen_{Config.MAX_LEN}_batchsize_{Config.BATCH_SIZE}.bin')\n",
    "        best_accuracy = val_acc"
   ]
  },
  {
   "cell_type": "code",
   "execution_count": 31,
   "id": "3db20d75",
   "metadata": {
    "execution": {
     "iopub.execute_input": "2023-03-19T09:36:04.673483Z",
     "iopub.status.busy": "2023-03-19T09:36:04.673171Z",
     "iopub.status.idle": "2023-03-19T09:36:31.649972Z",
     "shell.execute_reply": "2023-03-19T09:36:31.648639Z"
    },
    "papermill": {
     "duration": 26.990033,
     "end_time": "2023-03-19T09:36:31.652450",
     "exception": false,
     "start_time": "2023-03-19T09:36:04.662417",
     "status": "completed"
    },
    "tags": []
   },
   "outputs": [
    {
     "name": "stdout",
     "output_type": "stream",
     "text": [
      "Test accuracy = 72.95502565650469%\n"
     ]
    }
   ],
   "source": [
    "test_acc, _ = eval_model(\n",
    "      model,\n",
    "      test_data_loader,\n",
    "      loss_fn,\n",
    "      DEVICE,\n",
    "      len(df_test)\n",
    "    )\n",
    "\n",
    "print(f\"Test accuracy = {test_acc.item() * 100}%\")"
   ]
  },
  {
   "cell_type": "code",
   "execution_count": 32,
   "id": "ac63bc10",
   "metadata": {
    "execution": {
     "iopub.execute_input": "2023-03-19T09:36:31.674291Z",
     "iopub.status.busy": "2023-03-19T09:36:31.673385Z",
     "iopub.status.idle": "2023-03-19T09:36:32.089583Z",
     "shell.execute_reply": "2023-03-19T09:36:32.088645Z"
    },
    "papermill": {
     "duration": 0.429297,
     "end_time": "2023-03-19T09:36:32.091956",
     "exception": false,
     "start_time": "2023-03-19T09:36:31.662659",
     "status": "completed"
    },
    "tags": []
   },
   "outputs": [
    {
     "data": {
      "image/png": "[encoded data removed]",
      "text/plain": [
       "<Figure size 640x480 with 1 Axes>"
      ]
     },
     "metadata": {},
     "output_type": "display_data"
    },
    {
     "data": {
      "image/png": "[encoded data removed]",
      "text/plain": [
       "<Figure size 640x480 with 1 Axes>"
      ]
     },
     "metadata": {},
     "output_type": "display_data"
    }
   ],
   "source": [
    "def generate_acc_loss_plots(history):\n",
    "    \n",
    "    train_acc = [tensor.detach().cpu().numpy() for tensor in history['train_acc']]\n",
    "    val_acc = [tensor.detach().cpu().numpy() for tensor in history['val_acc']]\n",
    "    \n",
    "    ax = plt.figure().gca()\n",
    "    ax.xaxis.set_major_locator(MaxNLocator(integer=True))\n",
    "    plt.plot(train_acc, label='train accuracy')\n",
    "    plt.plot(val_acc, label='validation accuracy')\n",
    "    plt.title('Training history')\n",
    "    plt.ylabel('Accuracy')\n",
    "    plt.xlabel('Epoch')\n",
    "    plt.legend()\n",
    "    plt.ylim([0, 1])\n",
    "    plt.show()\n",
    "    \n",
    "    ax = plt.figure().gca()\n",
    "    ax.xaxis.set_major_locator(MaxNLocator(integer=True))\n",
    "    plt.plot(history['train_loss'], label='Training Loss')\n",
    "    plt.plot(history['val_loss'], label='Validation Loss')\n",
    "    plt.title('Training history')\n",
    "    plt.ylabel('Loss')\n",
    "    plt.xlabel('Epoch')\n",
    "    plt.legend()\n",
    "    plt.ylim([0, 1])\n",
    "    plt.show()\n",
    "    \n",
    "generate_acc_loss_plots(history)\n",
    "\n",
    "with open(f'history_{model_name}_epochs_{Config.EPOCHS}_maxlen_{Config.MAX_LEN}_batchsize_{Config.BATCH_SIZE}.pkl', \n",
    "          'wb') as f:\n",
    "    pickle.dump(history, f)"
   ]
  },
  {
   "cell_type": "code",
   "execution_count": 33,
   "id": "98724cd1",
   "metadata": {
    "execution": {
     "iopub.execute_input": "2023-03-19T09:36:32.114292Z",
     "iopub.status.busy": "2023-03-19T09:36:32.113996Z",
     "iopub.status.idle": "2023-03-19T09:36:32.121676Z",
     "shell.execute_reply": "2023-03-19T09:36:32.120573Z"
    },
    "papermill": {
     "duration": 0.021566,
     "end_time": "2023-03-19T09:36:32.123845",
     "exception": false,
     "start_time": "2023-03-19T09:36:32.102279",
     "status": "completed"
    },
    "tags": []
   },
   "outputs": [],
   "source": [
    "def get_predictions(model, data_loader):\n",
    "    \n",
    "    model = model.eval()\n",
    "    \n",
    "    review_list = []\n",
    "    predictions = []\n",
    "    prediction_probs = []\n",
    "    real_values = []\n",
    "    \n",
    "    with torch.no_grad():\n",
    "        for i in data_loader:\n",
    "            reviews = i[\"review\"]\n",
    "            input_ids = i[\"input_ids\"].to(DEVICE)\n",
    "            attention_mask = i[\"attention_mask\"].to(DEVICE)\n",
    "            targets = i[\"targets\"].to(DEVICE)\n",
    "            \n",
    "            outputs = model(input_ids, attention_mask = attention_mask)\n",
    "            \n",
    "            _, preds = torch.max(outputs, dim = 1)\n",
    "            \n",
    "            review_list.extend(reviews)\n",
    "            predictions.extend(preds)\n",
    "            prediction_probs.extend(outputs)\n",
    "            real_values.extend(targets)\n",
    "    \n",
    "    predictions = torch.stack(predictions).cpu()\n",
    "    prediction_probs = torch.stack(prediction_probs).cpu()\n",
    "    real_values = torch.stack(real_values).cpu()\n",
    "    \n",
    "    return reviews, predictions, prediction_probs, real_values"
   ]
  },
  {
   "cell_type": "code",
   "execution_count": 34,
   "id": "606458c7",
   "metadata": {
    "execution": {
     "iopub.execute_input": "2023-03-19T09:36:32.145354Z",
     "iopub.status.busy": "2023-03-19T09:36:32.144471Z",
     "iopub.status.idle": "2023-03-19T09:36:32.151443Z",
     "shell.execute_reply": "2023-03-19T09:36:32.150446Z"
    },
    "papermill": {
     "duration": 0.019839,
     "end_time": "2023-03-19T09:36:32.153537",
     "exception": false,
     "start_time": "2023-03-19T09:36:32.133698",
     "status": "completed"
    },
    "tags": []
   },
   "outputs": [],
   "source": [
    "def plot_confusion_matrix(confusion_matrix):\n",
    "    \n",
    "    plt.figure(figsize = (12, 8))\n",
    "    ax = plt.axes()\n",
    "    ax = sns.heatmap(confusion_matrix, annot = True, square = True, fmt = \"d\", cmap = \"Blues\", cbar = False, annot_kws={'size': 15},\n",
    "                    xticklabels=[1, 2, 3, 4, 5], yticklabels=[1, 2, 3, 4, 5])\n",
    "    ax.xaxis.set_tick_params(labelsize = 10)\n",
    "    ax.yaxis.set_tick_params(labelsize = 10)\n",
    "    plt.title(\"Confusion Matrix\", fontsize = 15)\n",
    "    plt.ylabel(\"Actual Classes\", fontsize = 15)\n",
    "    plt.xlabel(\"Predicted Classes\", fontsize = 15)\n",
    "    plt.show()"
   ]
  },
  {
   "cell_type": "code",
   "execution_count": 35,
   "id": "eeb83b80",
   "metadata": {
    "execution": {
     "iopub.execute_input": "2023-03-19T09:36:32.174496Z",
     "iopub.status.busy": "2023-03-19T09:36:32.174234Z",
     "iopub.status.idle": "2023-03-19T09:36:59.100884Z",
     "shell.execute_reply": "2023-03-19T09:36:59.097959Z"
    },
    "papermill": {
     "duration": 26.940457,
     "end_time": "2023-03-19T09:36:59.104032",
     "exception": false,
     "start_time": "2023-03-19T09:36:32.163575",
     "status": "completed"
    },
    "tags": []
   },
   "outputs": [
    {
     "name": "stdout",
     "output_type": "stream",
     "text": [
      "              precision    recall  f1-score   support\n",
      "\n",
      "           0       0.65      0.85      0.73      5742\n",
      "           1       0.34      0.08      0.14      1874\n",
      "           2       0.35      0.25      0.29      2196\n",
      "           3       0.49      0.40      0.44      3807\n",
      "           4       0.86      0.90      0.88     16198\n",
      "\n",
      "    accuracy                           0.73     29817\n",
      "   macro avg       0.54      0.50      0.50     29817\n",
      "weighted avg       0.70      0.73      0.71     29817\n",
      "\n"
     ]
    }
   ],
   "source": [
    "y_reviews, y_pred, y_pred_probs, y_test = get_predictions(model, test_data_loader)\n",
    "print(classification_report(y_test, y_pred))"
   ]
  },
  {
   "cell_type": "code",
   "execution_count": 36,
   "id": "cdfc0a29",
   "metadata": {
    "execution": {
     "iopub.execute_input": "2023-03-19T09:36:59.127142Z",
     "iopub.status.busy": "2023-03-19T09:36:59.126253Z",
     "iopub.status.idle": "2023-03-19T09:36:59.160254Z",
     "shell.execute_reply": "2023-03-19T09:36:59.158646Z"
    },
    "papermill": {
     "duration": 0.047632,
     "end_time": "2023-03-19T09:36:59.162446",
     "exception": false,
     "start_time": "2023-03-19T09:36:59.114814",
     "status": "completed"
    },
    "tags": []
   },
   "outputs": [
    {
     "name": "stdout",
     "output_type": "stream",
     "text": [
      "F1 Score: 0.7051751785196947\n",
      "Precision: 0.6989638190567218\n",
      "Recall: 0.7295502565650468\n"
     ]
    }
   ],
   "source": [
    "print(f\"F1 Score: {f1_score(y_test, y_pred, average='weighted')}\")\n",
    "print(f\"Precision: {precision_score(y_test, y_pred, average='weighted')}\")\n",
    "print(f\"Recall: {recall_score(y_test, y_pred, average='weighted')}\")"
   ]
  },
  {
   "cell_type": "code",
   "execution_count": 37,
   "id": "cfd64df3",
   "metadata": {
    "execution": {
     "iopub.execute_input": "2023-03-19T09:36:59.184509Z",
     "iopub.status.busy": "2023-03-19T09:36:59.184216Z",
     "iopub.status.idle": "2023-03-19T09:36:59.442565Z",
     "shell.execute_reply": "2023-03-19T09:36:59.441508Z"
    },
    "papermill": {
     "duration": 0.272078,
     "end_time": "2023-03-19T09:36:59.445088",
     "exception": false,
     "start_time": "2023-03-19T09:36:59.173010",
     "status": "completed"
    },
    "tags": []
   },
   "outputs": [
    {
     "data": {
      "image/png": "[encoded data removed]",
      "text/plain": [
       "<Figure size 1200x800 with 1 Axes>"
      ]
     },
     "metadata": {},
     "output_type": "display_data"
    }
   ],
   "source": [
    "plot_confusion_matrix(confusion_matrix(y_test, y_pred))"
   ]
  },
  {
   "cell_type": "code",
   "execution_count": null,
   "id": "7e817040",
   "metadata": {
    "papermill": {
     "duration": 0.011027,
     "end_time": "2023-03-19T09:36:59.467570",
     "exception": false,
     "start_time": "2023-03-19T09:36:59.456543",
     "status": "completed"
    },
    "tags": []
   },
   "outputs": [],
   "source": []
  }
 ],
 "metadata": {
  "kernelspec": {
   "display_name": "Python 3",
   "language": "python",
   "name": "python3"
  },
  "language_info": {
   "codemirror_mode": {
    "name": "ipython",
    "version": 3
   },
   "file_extension": ".py",
   "mimetype": "text/x-python",
   "name": "python",
   "nbconvert_exporter": "python",
   "pygments_lexer": "ipython3",
   "version": "3.7.12"
  },
  "papermill": {
   "default_parameters": {},
   "duration": 2922.465922,
   "end_time": "2023-03-19T09:37:02.587970",
   "environment_variables": {},
   "exception": null,
   "input_path": "__notebook__.ipynb",
   "output_path": "__notebook__.ipynb",
   "parameters": {},
   "start_time": "2023-03-19T08:48:20.122048",
   "version": "2.4.0"
  },
  "widgets": {
   "application/vnd.jupyter.widget-state+json": {
    "state": {
     "090ebb5f2136478b910613b2a9e8f230": {
      "model_module": "@jupyter-widgets/base",
      "model_module_version": "1.2.0",
      "model_name": "LayoutModel",
      "state": {
       "_model_module": "@jupyter-widgets/base",
       "_model_module_version": "1.2.0",
       "_model_name": "LayoutModel",
       "_view_count": null,
       "_view_module": "@jupyter-widgets/base",
       "_view_module_version": "1.2.0",
       "_view_name": "LayoutView",
       "align_content": null,
       "align_items": null,
       "align_self": null,
       "border": null,
       "bottom": null,
       "display": null,
       "flex": null,
       "flex_flow": null,
       "grid_area": null,
       "grid_auto_columns": null,
       "grid_auto_flow": null,
       "grid_auto_rows": null,
       "grid_column": null,
       "grid_gap": null,
       "grid_row": null,
       "grid_template_areas": null,
       "grid_template_columns": null,
       "grid_template_rows": null,
       "height": null,
       "justify_content": null,
       "justify_items": null,
       "left": null,
       "margin": null,
       "max_height": null,
       "max_width": null,
       "min_height": null,
       "min_width": null,
       "object_fit": null,
       "object_position": null,
       "order": null,
       "overflow": null,
       "overflow_x": null,
       "overflow_y": null,
       "padding": null,
       "right": null,
       "top": null,
       "visibility": null,
       "width": null
      }
     },
     "17abf54732f241698c459cda467a7df0": {
      "model_module": "@jupyter-widgets/controls",
      "model_module_version": "1.5.0",
      "model_name": "FloatProgressModel",
      "state": {
       "_dom_classes": [],
       "_model_module": "@jupyter-widgets/controls",
       "_model_module_version": "1.5.0",
       "_model_name": "FloatProgressModel",
       "_view_count": null,
       "_view_module": "@jupyter-widgets/controls",
       "_view_module_version": "1.5.0",
       "_view_name": "ProgressView",
       "bar_style": "success",
       "description": "",
       "description_tooltip": null,
       "layout": "IPY_MODEL_f799711fa1c144188b788ed98eb244c7",
       "max": 54245363.0,
       "min": 0.0,
       "orientation": "horizontal",
       "style": "IPY_MODEL_4dc00f6ac58c4e7a83a2214a60bd39ff",
       "value": 54245363.0
      }
     },
     "1d4b0d15dcc14a25a0c9cb433c90fa49": {
      "model_module": "@jupyter-widgets/controls",
      "model_module_version": "1.5.0",
      "model_name": "HTMLModel",
      "state": {
       "_dom_classes": [],
       "_model_module": "@jupyter-widgets/controls",
       "_model_module_version": "1.5.0",
       "_model_name": "HTMLModel",
       "_view_count": null,
       "_view_module": "@jupyter-widgets/controls",
       "_view_module_version": "1.5.0",
       "_view_name": "HTMLView",
       "description": "",
       "description_tooltip": null,
       "layout": "IPY_MODEL_2d951ffc1d8141c2a5b2adbba900a59f",
       "placeholder": "​",
       "style": "IPY_MODEL_6047183410334390a0fedb76d2f30f2f",
       "value": " 54.2M/54.2M [00:02&lt;00:00, 22.3MB/s]"
      }
     },
     "2082b60ffc9e42f09e6f254badfc4bbd": {
      "model_module": "@jupyter-widgets/base",
      "model_module_version": "1.2.0",
      "model_name": "LayoutModel",
      "state": {
       "_model_module": "@jupyter-widgets/base",
       "_model_module_version": "1.2.0",
       "_model_name": "LayoutModel",
       "_view_count": null,
       "_view_module": "@jupyter-widgets/base",
       "_view_module_version": "1.2.0",
       "_view_name": "LayoutView",
       "align_content": null,
       "align_items": null,
       "align_self": null,
       "border": null,
       "bottom": null,
       "display": null,
       "flex": null,
       "flex_flow": null,
       "grid_area": null,
       "grid_auto_columns": null,
       "grid_auto_flow": null,
       "grid_auto_rows": null,
       "grid_column": null,
       "grid_gap": null,
       "grid_row": null,
       "grid_template_areas": null,
       "grid_template_columns": null,
       "grid_template_rows": null,
       "height": null,
       "justify_content": null,
       "justify_items": null,
       "left": null,
       "margin": null,
       "max_height": null,
       "max_width": null,
       "min_height": null,
       "min_width": null,
       "object_fit": null,
       "object_position": null,
       "order": null,
       "overflow": null,
       "overflow_x": null,
       "overflow_y": null,
       "padding": null,
       "right": null,
       "top": null,
       "visibility": null,
       "width": null
      }
     },
     "222589ba96e547af889bc41c737873b2": {
      "model_module": "@jupyter-widgets/controls",
      "model_module_version": "1.5.0",
      "model_name": "DescriptionStyleModel",
      "state": {
       "_model_module": "@jupyter-widgets/controls",
       "_model_module_version": "1.5.0",
       "_model_name": "DescriptionStyleModel",
       "_view_count": null,
       "_view_module": "@jupyter-widgets/base",
       "_view_module_version": "1.2.0",
       "_view_name": "StyleView",
       "description_width": ""
      }
     },
     "2d951ffc1d8141c2a5b2adbba900a59f": {
      "model_module": "@jupyter-widgets/base",
      "model_module_version": "1.2.0",
      "model_name": "LayoutModel",
      "state": {
       "_model_module": "@jupyter-widgets/base",
       "_model_module_version": "1.2.0",
       "_model_name": "LayoutModel",
       "_view_count": null,
       "_view_module": "@jupyter-widgets/base",
       "_view_module_version": "1.2.0",
       "_view_name": "LayoutView",
       "align_content": null,
       "align_items": null,
       "align_self": null,
       "border": null,
       "bottom": null,
       "display": null,
       "flex": null,
       "flex_flow": null,
       "grid_area": null,
       "grid_auto_columns": null,
       "grid_auto_flow": null,
       "grid_auto_rows": null,
       "grid_column": null,
       "grid_gap": null,
       "grid_row": null,
       "grid_template_areas": null,
       "grid_template_columns": null,
       "grid_template_rows": null,
       "height": null,
       "justify_content": null,
       "justify_items": null,
       "left": null,
       "margin": null,
       "max_height": null,
       "max_width": null,
       "min_height": null,
       "min_width": null,
       "object_fit": null,
       "object_position": null,
       "order": null,
       "overflow": null,
       "overflow_x": null,
       "overflow_y": null,
       "padding": null,
       "right": null,
       "top": null,
       "visibility": null,
       "width": null
      }
     },
     "2da72424ee574d69991bb1945f03115e": {
      "model_module": "@jupyter-widgets/controls",
      "model_module_version": "1.5.0",
      "model_name": "HTMLModel",
      "state": {
       "_dom_classes": [],
       "_model_module": "@jupyter-widgets/controls",
       "_model_module_version": "1.5.0",
       "_model_name": "HTMLModel",
       "_view_count": null,
       "_view_module": "@jupyter-widgets/controls",
       "_view_module_version": "1.5.0",
       "_view_name": "HTMLView",
       "description": "",
       "description_tooltip": null,
       "layout": "IPY_MODEL_2e5628f5166e453eab2a6462a6af396b",
       "placeholder": "​",
       "style": "IPY_MODEL_e070bb59c857421982fdd042d3f78971",
       "value": "Downloading (…)solve/main/vocab.txt: 100%"
      }
     },
     "2e5628f5166e453eab2a6462a6af396b": {
      "model_module": "@jupyter-widgets/base",
      "model_module_version": "1.2.0",
      "model_name": "LayoutModel",
      "state": {
       "_model_module": "@jupyter-widgets/base",
       "_model_module_version": "1.2.0",
       "_model_name": "LayoutModel",
       "_view_count": null,
       "_view_module": "@jupyter-widgets/base",
       "_view_module_version": "1.2.0",
       "_view_name": "LayoutView",
       "align_content": null,
       "align_items": null,
       "align_self": null,
       "border": null,
       "bottom": null,
       "display": null,
       "flex": null,
       "flex_flow": null,
       "grid_area": null,
       "grid_auto_columns": null,
       "grid_auto_flow": null,
       "grid_auto_rows": null,
       "grid_column": null,
       "grid_gap": null,
       "grid_row": null,
       "grid_template_areas": null,
       "grid_template_columns": null,
       "grid_template_rows": null,
       "height": null,
       "justify_content": null,
       "justify_items": null,
       "left": null,
       "margin": null,
       "max_height": null,
       "max_width": null,
       "min_height": null,
       "min_width": null,
       "object_fit": null,
       "object_position": null,
       "order": null,
       "overflow": null,
       "overflow_x": null,
       "overflow_y": null,
       "padding": null,
       "right": null,
       "top": null,
       "visibility": null,
       "width": null
      }
     },
     "3740c38f5c4141b89fa8a8041560d271": {
      "model_module": "@jupyter-widgets/controls",
      "model_module_version": "1.5.0",
      "model_name": "ProgressStyleModel",
      "state": {
       "_model_module": "@jupyter-widgets/controls",
       "_model_module_version": "1.5.0",
       "_model_name": "ProgressStyleModel",
       "_view_count": null,
       "_view_module": "@jupyter-widgets/base",
       "_view_module_version": "1.2.0",
       "_view_name": "StyleView",
       "bar_color": null,
       "description_width": ""
      }
     },
     "39fb2e3ab7844152bab9060b19de13a4": {
      "model_module": "@jupyter-widgets/base",
      "model_module_version": "1.2.0",
      "model_name": "LayoutModel",
      "state": {
       "_model_module": "@jupyter-widgets/base",
       "_model_module_version": "1.2.0",
       "_model_name": "LayoutModel",
       "_view_count": null,
       "_view_module": "@jupyter-widgets/base",
       "_view_module_version": "1.2.0",
       "_view_name": "LayoutView",
       "align_content": null,
       "align_items": null,
       "align_self": null,
       "border": null,
       "bottom": null,
       "display": null,
       "flex": null,
       "flex_flow": null,
       "grid_area": null,
       "grid_auto_columns": null,
       "grid_auto_flow": null,
       "grid_auto_rows": null,
       "grid_column": null,
       "grid_gap": null,
       "grid_row": null,
       "grid_template_areas": null,
       "grid_template_columns": null,
       "grid_template_rows": null,
       "height": null,
       "justify_content": null,
       "justify_items": null,
       "left": null,
       "margin": null,
       "max_height": null,
       "max_width": null,
       "min_height": null,
       "min_width": null,
       "object_fit": null,
       "object_position": null,
       "order": null,
       "overflow": null,
       "overflow_x": null,
       "overflow_y": null,
       "padding": null,
       "right": null,
       "top": null,
       "visibility": null,
       "width": null
      }
     },
     "45159732eaf644e8bb92d85d7312da49": {
      "model_module": "@jupyter-widgets/base",
      "model_module_version": "1.2.0",
      "model_name": "LayoutModel",
      "state": {
       "_model_module": "@jupyter-widgets/base",
       "_model_module_version": "1.2.0",
       "_model_name": "LayoutModel",
       "_view_count": null,
       "_view_module": "@jupyter-widgets/base",
       "_view_module_version": "1.2.0",
       "_view_name": "LayoutView",
       "align_content": null,
       "align_items": null,
       "align_self": null,
       "border": null,
       "bottom": null,
       "display": null,
       "flex": null,
       "flex_flow": null,
       "grid_area": null,
       "grid_auto_columns": null,
       "grid_auto_flow": null,
       "grid_auto_rows": null,
       "grid_column": null,
       "grid_gap": null,
       "grid_row": null,
       "grid_template_areas": null,
       "grid_template_columns": null,
       "grid_template_rows": null,
       "height": null,
       "justify_content": null,
       "justify_items": null,
       "left": null,
       "margin": null,
       "max_height": null,
       "max_width": null,
       "min_height": null,
       "min_width": null,
       "object_fit": null,
       "object_position": null,
       "order": null,
       "overflow": null,
       "overflow_x": null,
       "overflow_y": null,
       "padding": null,
       "right": null,
       "top": null,
       "visibility": null,
       "width": null
      }
     },
     "4600cc5ead934a8085aaf4bd7a5ebe60": {
      "model_module": "@jupyter-widgets/controls",
      "model_module_version": "1.5.0",
      "model_name": "ProgressStyleModel",
      "state": {
       "_model_module": "@jupyter-widgets/controls",
       "_model_module_version": "1.5.0",
       "_model_name": "ProgressStyleModel",
       "_view_count": null,
       "_view_module": "@jupyter-widgets/base",
       "_view_module_version": "1.2.0",
       "_view_name": "StyleView",
       "bar_color": null,
       "description_width": ""
      }
     },
     "46be994e45b740b8ae715c38a154a2f1": {
      "model_module": "@jupyter-widgets/base",
      "model_module_version": "1.2.0",
      "model_name": "LayoutModel",
      "state": {
       "_model_module": "@jupyter-widgets/base",
       "_model_module_version": "1.2.0",
       "_model_name": "LayoutModel",
       "_view_count": null,
       "_view_module": "@jupyter-widgets/base",
       "_view_module_version": "1.2.0",
       "_view_name": "LayoutView",
       "align_content": null,
       "align_items": null,
       "align_self": null,
       "border": null,
       "bottom": null,
       "display": null,
       "flex": null,
       "flex_flow": null,
       "grid_area": null,
       "grid_auto_columns": null,
       "grid_auto_flow": null,
       "grid_auto_rows": null,
       "grid_column": null,
       "grid_gap": null,
       "grid_row": null,
       "grid_template_areas": null,
       "grid_template_columns": null,
       "grid_template_rows": null,
       "height": null,
       "justify_content": null,
       "justify_items": null,
       "left": null,
       "margin": null,
       "max_height": null,
       "max_width": null,
       "min_height": null,
       "min_width": null,
       "object_fit": null,
       "object_position": null,
       "order": null,
       "overflow": null,
       "overflow_x": null,
       "overflow_y": null,
       "padding": null,
       "right": null,
       "top": null,
       "visibility": null,
       "width": null
      }
     },
     "47460b6109904b85978fc9ff4c18267c": {
      "model_module": "@jupyter-widgets/base",
      "model_module_version": "1.2.0",
      "model_name": "LayoutModel",
      "state": {
       "_model_module": "@jupyter-widgets/base",
       "_model_module_version": "1.2.0",
       "_model_name": "LayoutModel",
       "_view_count": null,
       "_view_module": "@jupyter-widgets/base",
       "_view_module_version": "1.2.0",
       "_view_name": "LayoutView",
       "align_content": null,
       "align_items": null,
       "align_self": null,
       "border": null,
       "bottom": null,
       "display": null,
       "flex": null,
       "flex_flow": null,
       "grid_area": null,
       "grid_auto_columns": null,
       "grid_auto_flow": null,
       "grid_auto_rows": null,
       "grid_column": null,
       "grid_gap": null,
       "grid_row": null,
       "grid_template_areas": null,
       "grid_template_columns": null,
       "grid_template_rows": null,
       "height": null,
       "justify_content": null,
       "justify_items": null,
       "left": null,
       "margin": null,
       "max_height": null,
       "max_width": null,
       "min_height": null,
       "min_width": null,
       "object_fit": null,
       "object_position": null,
       "order": null,
       "overflow": null,
       "overflow_x": null,
       "overflow_y": null,
       "padding": null,
       "right": null,
       "top": null,
       "visibility": null,
       "width": null
      }
     },
     "4dc00f6ac58c4e7a83a2214a60bd39ff": {
      "model_module": "@jupyter-widgets/controls",
      "model_module_version": "1.5.0",
      "model_name": "ProgressStyleModel",
      "state": {
       "_model_module": "@jupyter-widgets/controls",
       "_model_module_version": "1.5.0",
       "_model_name": "ProgressStyleModel",
       "_view_count": null,
       "_view_module": "@jupyter-widgets/base",
       "_view_module_version": "1.2.0",
       "_view_name": "StyleView",
       "bar_color": null,
       "description_width": ""
      }
     },
     "4fe464da6f0a458a842e4d46d11cde5a": {
      "model_module": "@jupyter-widgets/controls",
      "model_module_version": "1.5.0",
      "model_name": "ProgressStyleModel",
      "state": {
       "_model_module": "@jupyter-widgets/controls",
       "_model_module_version": "1.5.0",
       "_model_name": "ProgressStyleModel",
       "_view_count": null,
       "_view_module": "@jupyter-widgets/base",
       "_view_module_version": "1.2.0",
       "_view_name": "StyleView",
       "bar_color": null,
       "description_width": ""
      }
     },
     "50c6a45212dd439ca268c3c01ea46de0": {
      "model_module": "@jupyter-widgets/controls",
      "model_module_version": "1.5.0",
      "model_name": "HTMLModel",
      "state": {
       "_dom_classes": [],
       "_model_module": "@jupyter-widgets/controls",
       "_model_module_version": "1.5.0",
       "_model_name": "HTMLModel",
       "_view_count": null,
       "_view_module": "@jupyter-widgets/controls",
       "_view_module_version": "1.5.0",
       "_view_name": "HTMLView",
       "description": "",
       "description_tooltip": null,
       "layout": "IPY_MODEL_090ebb5f2136478b910613b2a9e8f230",
       "placeholder": "​",
       "style": "IPY_MODEL_e09cff8fcdf14df18649ee0e55f4bf1f",
       "value": "Downloading (…)lve/main/config.json: 100%"
      }
     },
     "560bb23d29914afa9e990b8b8323068b": {
      "model_module": "@jupyter-widgets/controls",
      "model_module_version": "1.5.0",
      "model_name": "FloatProgressModel",
      "state": {
       "_dom_classes": [],
       "_model_module": "@jupyter-widgets/controls",
       "_model_module_version": "1.5.0",
       "_model_name": "FloatProgressModel",
       "_view_count": null,
       "_view_module": "@jupyter-widgets/controls",
       "_view_module_version": "1.5.0",
       "_view_name": "ProgressView",
       "bar_style": "success",
       "description": "",
       "description_tooltip": null,
       "layout": "IPY_MODEL_700f76e81c494eef81062a9127dd00c4",
       "max": 29.0,
       "min": 0.0,
       "orientation": "horizontal",
       "style": "IPY_MODEL_3740c38f5c4141b89fa8a8041560d271",
       "value": 29.0
      }
     },
     "59b0e8b4bf014cf3be0ad4baea1654ae": {
      "model_module": "@jupyter-widgets/controls",
      "model_module_version": "1.5.0",
      "model_name": "HTMLModel",
      "state": {
       "_dom_classes": [],
       "_model_module": "@jupyter-widgets/controls",
       "_model_module_version": "1.5.0",
       "_model_name": "HTMLModel",
       "_view_count": null,
       "_view_module": "@jupyter-widgets/controls",
       "_view_module_version": "1.5.0",
       "_view_name": "HTMLView",
       "description": "",
       "description_tooltip": null,
       "layout": "IPY_MODEL_39fb2e3ab7844152bab9060b19de13a4",
       "placeholder": "​",
       "style": "IPY_MODEL_b8517b086da341e7995a730ccc710513",
       "value": " 232k/232k [00:00&lt;00:00, 390kB/s]"
      }
     },
     "5f6a863ae5c6490bb6edcc6e17ee8154": {
      "model_module": "@jupyter-widgets/base",
      "model_module_version": "1.2.0",
      "model_name": "LayoutModel",
      "state": {
       "_model_module": "@jupyter-widgets/base",
       "_model_module_version": "1.2.0",
       "_model_name": "LayoutModel",
       "_view_count": null,
       "_view_module": "@jupyter-widgets/base",
       "_view_module_version": "1.2.0",
       "_view_name": "LayoutView",
       "align_content": null,
       "align_items": null,
       "align_self": null,
       "border": null,
       "bottom": null,
       "display": null,
       "flex": null,
       "flex_flow": null,
       "grid_area": null,
       "grid_auto_columns": null,
       "grid_auto_flow": null,
       "grid_auto_rows": null,
       "grid_column": null,
       "grid_gap": null,
       "grid_row": null,
       "grid_template_areas": null,
       "grid_template_columns": null,
       "grid_template_rows": null,
       "height": null,
       "justify_content": null,
       "justify_items": null,
       "left": null,
       "margin": null,
       "max_height": null,
       "max_width": null,
       "min_height": null,
       "min_width": null,
       "object_fit": null,
       "object_position": null,
       "order": null,
       "overflow": null,
       "overflow_x": null,
       "overflow_y": null,
       "padding": null,
       "right": null,
       "top": null,
       "visibility": null,
       "width": null
      }
     },
     "6047183410334390a0fedb76d2f30f2f": {
      "model_module": "@jupyter-widgets/controls",
      "model_module_version": "1.5.0",
      "model_name": "DescriptionStyleModel",
      "state": {
       "_model_module": "@jupyter-widgets/controls",
       "_model_module_version": "1.5.0",
       "_model_name": "DescriptionStyleModel",
       "_view_count": null,
       "_view_module": "@jupyter-widgets/base",
       "_view_module_version": "1.2.0",
       "_view_name": "StyleView",
       "description_width": ""
      }
     },
     "61a94aa80fe74a78b9f03292e623fa11": {
      "model_module": "@jupyter-widgets/base",
      "model_module_version": "1.2.0",
      "model_name": "LayoutModel",
      "state": {
       "_model_module": "@jupyter-widgets/base",
       "_model_module_version": "1.2.0",
       "_model_name": "LayoutModel",
       "_view_count": null,
       "_view_module": "@jupyter-widgets/base",
       "_view_module_version": "1.2.0",
       "_view_name": "LayoutView",
       "align_content": null,
       "align_items": null,
       "align_self": null,
       "border": null,
       "bottom": null,
       "display": null,
       "flex": null,
       "flex_flow": null,
       "grid_area": null,
       "grid_auto_columns": null,
       "grid_auto_flow": null,
       "grid_auto_rows": null,
       "grid_column": null,
       "grid_gap": null,
       "grid_row": null,
       "grid_template_areas": null,
       "grid_template_columns": null,
       "grid_template_rows": null,
       "height": null,
       "justify_content": null,
       "justify_items": null,
       "left": null,
       "margin": null,
       "max_height": null,
       "max_width": null,
       "min_height": null,
       "min_width": null,
       "object_fit": null,
       "object_position": null,
       "order": null,
       "overflow": null,
       "overflow_x": null,
       "overflow_y": null,
       "padding": null,
       "right": null,
       "top": null,
       "visibility": null,
       "width": null
      }
     },
     "665e9312a48641bebb5e88fb1f07bf06": {
      "model_module": "@jupyter-widgets/controls",
      "model_module_version": "1.5.0",
      "model_name": "HTMLModel",
      "state": {
       "_dom_classes": [],
       "_model_module": "@jupyter-widgets/controls",
       "_model_module_version": "1.5.0",
       "_model_name": "HTMLModel",
       "_view_count": null,
       "_view_module": "@jupyter-widgets/controls",
       "_view_module_version": "1.5.0",
       "_view_name": "HTMLView",
       "description": "",
       "description_tooltip": null,
       "layout": "IPY_MODEL_47460b6109904b85978fc9ff4c18267c",
       "placeholder": "​",
       "style": "IPY_MODEL_b9f0f7acd4c14ebc8c0a43a3cef1d477",
       "value": " 29.0/29.0 [00:00&lt;00:00, 1.71kB/s]"
      }
     },
     "6b4ea5fe180247f9a67c80929d14c69d": {
      "model_module": "@jupyter-widgets/controls",
      "model_module_version": "1.5.0",
      "model_name": "FloatProgressModel",
      "state": {
       "_dom_classes": [],
       "_model_module": "@jupyter-widgets/controls",
       "_model_module_version": "1.5.0",
       "_model_name": "FloatProgressModel",
       "_view_count": null,
       "_view_module": "@jupyter-widgets/controls",
       "_view_module_version": "1.5.0",
       "_view_name": "ProgressView",
       "bar_style": "success",
       "description": "",
       "description_tooltip": null,
       "layout": "IPY_MODEL_8d4a73b733f44e40b3959a5ad85161a5",
       "max": 231508.0,
       "min": 0.0,
       "orientation": "horizontal",
       "style": "IPY_MODEL_4fe464da6f0a458a842e4d46d11cde5a",
       "value": 231508.0
      }
     },
     "6be440ca54c94fb08d0d3e536530379e": {
      "model_module": "@jupyter-widgets/controls",
      "model_module_version": "1.5.0",
      "model_name": "FloatProgressModel",
      "state": {
       "_dom_classes": [],
       "_model_module": "@jupyter-widgets/controls",
       "_model_module_version": "1.5.0",
       "_model_name": "FloatProgressModel",
       "_view_count": null,
       "_view_module": "@jupyter-widgets/controls",
       "_view_module_version": "1.5.0",
       "_view_name": "ProgressView",
       "bar_style": "success",
       "description": "",
       "description_tooltip": null,
       "layout": "IPY_MODEL_46be994e45b740b8ae715c38a154a2f1",
       "max": 665.0,
       "min": 0.0,
       "orientation": "horizontal",
       "style": "IPY_MODEL_4600cc5ead934a8085aaf4bd7a5ebe60",
       "value": 665.0
      }
     },
     "700f76e81c494eef81062a9127dd00c4": {
      "model_module": "@jupyter-widgets/base",
      "model_module_version": "1.2.0",
      "model_name": "LayoutModel",
      "state": {
       "_model_module": "@jupyter-widgets/base",
       "_model_module_version": "1.2.0",
       "_model_name": "LayoutModel",
       "_view_count": null,
       "_view_module": "@jupyter-widgets/base",
       "_view_module_version": "1.2.0",
       "_view_name": "LayoutView",
       "align_content": null,
       "align_items": null,
       "align_self": null,
       "border": null,
       "bottom": null,
       "display": null,
       "flex": null,
       "flex_flow": null,
       "grid_area": null,
       "grid_auto_columns": null,
       "grid_auto_flow": null,
       "grid_auto_rows": null,
       "grid_column": null,
       "grid_gap": null,
       "grid_row": null,
       "grid_template_areas": null,
       "grid_template_columns": null,
       "grid_template_rows": null,
       "height": null,
       "justify_content": null,
       "justify_items": null,
       "left": null,
       "margin": null,
       "max_height": null,
       "max_width": null,
       "min_height": null,
       "min_width": null,
       "object_fit": null,
       "object_position": null,
       "order": null,
       "overflow": null,
       "overflow_x": null,
       "overflow_y": null,
       "padding": null,
       "right": null,
       "top": null,
       "visibility": null,
       "width": null
      }
     },
     "873d8855367b4d08b33c78989ba5c06a": {
      "model_module": "@jupyter-widgets/controls",
      "model_module_version": "1.5.0",
      "model_name": "HBoxModel",
      "state": {
       "_dom_classes": [],
       "_model_module": "@jupyter-widgets/controls",
       "_model_module_version": "1.5.0",
       "_model_name": "HBoxModel",
       "_view_count": null,
       "_view_module": "@jupyter-widgets/controls",
       "_view_module_version": "1.5.0",
       "_view_name": "HBoxView",
       "box_style": "",
       "children": [
        "IPY_MODEL_2da72424ee574d69991bb1945f03115e",
        "IPY_MODEL_6b4ea5fe180247f9a67c80929d14c69d",
        "IPY_MODEL_59b0e8b4bf014cf3be0ad4baea1654ae"
       ],
       "layout": "IPY_MODEL_2082b60ffc9e42f09e6f254badfc4bbd"
      }
     },
     "8a363bba9b474f0ba2f82ec5c2506809": {
      "model_module": "@jupyter-widgets/controls",
      "model_module_version": "1.5.0",
      "model_name": "HBoxModel",
      "state": {
       "_dom_classes": [],
       "_model_module": "@jupyter-widgets/controls",
       "_model_module_version": "1.5.0",
       "_model_name": "HBoxModel",
       "_view_count": null,
       "_view_module": "@jupyter-widgets/controls",
       "_view_module_version": "1.5.0",
       "_view_name": "HBoxView",
       "box_style": "",
       "children": [
        "IPY_MODEL_956fe4315154468e9519d1abd8db444d",
        "IPY_MODEL_560bb23d29914afa9e990b8b8323068b",
        "IPY_MODEL_665e9312a48641bebb5e88fb1f07bf06"
       ],
       "layout": "IPY_MODEL_c0bad6f1508c423d901058f0a55107d7"
      }
     },
     "8d4a73b733f44e40b3959a5ad85161a5": {
      "model_module": "@jupyter-widgets/base",
      "model_module_version": "1.2.0",
      "model_name": "LayoutModel",
      "state": {
       "_model_module": "@jupyter-widgets/base",
       "_model_module_version": "1.2.0",
       "_model_name": "LayoutModel",
       "_view_count": null,
       "_view_module": "@jupyter-widgets/base",
       "_view_module_version": "1.2.0",
       "_view_name": "LayoutView",
       "align_content": null,
       "align_items": null,
       "align_self": null,
       "border": null,
       "bottom": null,
       "display": null,
       "flex": null,
       "flex_flow": null,
       "grid_area": null,
       "grid_auto_columns": null,
       "grid_auto_flow": null,
       "grid_auto_rows": null,
       "grid_column": null,
       "grid_gap": null,
       "grid_row": null,
       "grid_template_areas": null,
       "grid_template_columns": null,
       "grid_template_rows": null,
       "height": null,
       "justify_content": null,
       "justify_items": null,
       "left": null,
       "margin": null,
       "max_height": null,
       "max_width": null,
       "min_height": null,
       "min_width": null,
       "object_fit": null,
       "object_position": null,
       "order": null,
       "overflow": null,
       "overflow_x": null,
       "overflow_y": null,
       "padding": null,
       "right": null,
       "top": null,
       "visibility": null,
       "width": null
      }
     },
     "956fe4315154468e9519d1abd8db444d": {
      "model_module": "@jupyter-widgets/controls",
      "model_module_version": "1.5.0",
      "model_name": "HTMLModel",
      "state": {
       "_dom_classes": [],
       "_model_module": "@jupyter-widgets/controls",
       "_model_module_version": "1.5.0",
       "_model_name": "HTMLModel",
       "_view_count": null,
       "_view_module": "@jupyter-widgets/controls",
       "_view_module_version": "1.5.0",
       "_view_name": "HTMLView",
       "description": "",
       "description_tooltip": null,
       "layout": "IPY_MODEL_45159732eaf644e8bb92d85d7312da49",
       "placeholder": "​",
       "style": "IPY_MODEL_b49bc5beb67b4d54a9827bbc2a399499",
       "value": "Downloading (…)okenizer_config.json: 100%"
      }
     },
     "9f584b3109a14ff99da577645f4c3021": {
      "model_module": "@jupyter-widgets/controls",
      "model_module_version": "1.5.0",
      "model_name": "DescriptionStyleModel",
      "state": {
       "_model_module": "@jupyter-widgets/controls",
       "_model_module_version": "1.5.0",
       "_model_name": "DescriptionStyleModel",
       "_view_count": null,
       "_view_module": "@jupyter-widgets/base",
       "_view_module_version": "1.2.0",
       "_view_name": "StyleView",
       "description_width": ""
      }
     },
     "b49bc5beb67b4d54a9827bbc2a399499": {
      "model_module": "@jupyter-widgets/controls",
      "model_module_version": "1.5.0",
      "model_name": "DescriptionStyleModel",
      "state": {
       "_model_module": "@jupyter-widgets/controls",
       "_model_module_version": "1.5.0",
       "_model_name": "DescriptionStyleModel",
       "_view_count": null,
       "_view_module": "@jupyter-widgets/base",
       "_view_module_version": "1.2.0",
       "_view_name": "StyleView",
       "description_width": ""
      }
     },
     "b8517b086da341e7995a730ccc710513": {
      "model_module": "@jupyter-widgets/controls",
      "model_module_version": "1.5.0",
      "model_name": "DescriptionStyleModel",
      "state": {
       "_model_module": "@jupyter-widgets/controls",
       "_model_module_version": "1.5.0",
       "_model_name": "DescriptionStyleModel",
       "_view_count": null,
       "_view_module": "@jupyter-widgets/base",
       "_view_module_version": "1.2.0",
       "_view_name": "StyleView",
       "description_width": ""
      }
     },
     "b9f0f7acd4c14ebc8c0a43a3cef1d477": {
      "model_module": "@jupyter-widgets/controls",
      "model_module_version": "1.5.0",
      "model_name": "DescriptionStyleModel",
      "state": {
       "_model_module": "@jupyter-widgets/controls",
       "_model_module_version": "1.5.0",
       "_model_name": "DescriptionStyleModel",
       "_view_count": null,
       "_view_module": "@jupyter-widgets/base",
       "_view_module_version": "1.2.0",
       "_view_name": "StyleView",
       "description_width": ""
      }
     },
     "ba7b7799bdb2456fa614c9b5976d4b9c": {
      "model_module": "@jupyter-widgets/controls",
      "model_module_version": "1.5.0",
      "model_name": "HTMLModel",
      "state": {
       "_dom_classes": [],
       "_model_module": "@jupyter-widgets/controls",
       "_model_module_version": "1.5.0",
       "_model_name": "HTMLModel",
       "_view_count": null,
       "_view_module": "@jupyter-widgets/controls",
       "_view_module_version": "1.5.0",
       "_view_name": "HTMLView",
       "description": "",
       "description_tooltip": null,
       "layout": "IPY_MODEL_fe5132e595334c93a6aa78982e77eefb",
       "placeholder": "​",
       "style": "IPY_MODEL_9f584b3109a14ff99da577645f4c3021",
       "value": "Downloading (…)&quot;pytorch_model.bin&quot;;: 100%"
      }
     },
     "bc2358db2d2e44d0aa7e361f360a9c9b": {
      "model_module": "@jupyter-widgets/base",
      "model_module_version": "1.2.0",
      "model_name": "LayoutModel",
      "state": {
       "_model_module": "@jupyter-widgets/base",
       "_model_module_version": "1.2.0",
       "_model_name": "LayoutModel",
       "_view_count": null,
       "_view_module": "@jupyter-widgets/base",
       "_view_module_version": "1.2.0",
       "_view_name": "LayoutView",
       "align_content": null,
       "align_items": null,
       "align_self": null,
       "border": null,
       "bottom": null,
       "display": null,
       "flex": null,
       "flex_flow": null,
       "grid_area": null,
       "grid_auto_columns": null,
       "grid_auto_flow": null,
       "grid_auto_rows": null,
       "grid_column": null,
       "grid_gap": null,
       "grid_row": null,
       "grid_template_areas": null,
       "grid_template_columns": null,
       "grid_template_rows": null,
       "height": null,
       "justify_content": null,
       "justify_items": null,
       "left": null,
       "margin": null,
       "max_height": null,
       "max_width": null,
       "min_height": null,
       "min_width": null,
       "object_fit": null,
       "object_position": null,
       "order": null,
       "overflow": null,
       "overflow_x": null,
       "overflow_y": null,
       "padding": null,
       "right": null,
       "top": null,
       "visibility": null,
       "width": null
      }
     },
     "bf15649514754cec8dce9b5f84be2bc9": {
      "model_module": "@jupyter-widgets/controls",
      "model_module_version": "1.5.0",
      "model_name": "HBoxModel",
      "state": {
       "_dom_classes": [],
       "_model_module": "@jupyter-widgets/controls",
       "_model_module_version": "1.5.0",
       "_model_name": "HBoxModel",
       "_view_count": null,
       "_view_module": "@jupyter-widgets/controls",
       "_view_module_version": "1.5.0",
       "_view_name": "HBoxView",
       "box_style": "",
       "children": [
        "IPY_MODEL_50c6a45212dd439ca268c3c01ea46de0",
        "IPY_MODEL_6be440ca54c94fb08d0d3e536530379e",
        "IPY_MODEL_e199eddfdc5c44c79178882df9c99ac6"
       ],
       "layout": "IPY_MODEL_61a94aa80fe74a78b9f03292e623fa11"
      }
     },
     "c0bad6f1508c423d901058f0a55107d7": {
      "model_module": "@jupyter-widgets/base",
      "model_module_version": "1.2.0",
      "model_name": "LayoutModel",
      "state": {
       "_model_module": "@jupyter-widgets/base",
       "_model_module_version": "1.2.0",
       "_model_name": "LayoutModel",
       "_view_count": null,
       "_view_module": "@jupyter-widgets/base",
       "_view_module_version": "1.2.0",
       "_view_name": "LayoutView",
       "align_content": null,
       "align_items": null,
       "align_self": null,
       "border": null,
       "bottom": null,
       "display": null,
       "flex": null,
       "flex_flow": null,
       "grid_area": null,
       "grid_auto_columns": null,
       "grid_auto_flow": null,
       "grid_auto_rows": null,
       "grid_column": null,
       "grid_gap": null,
       "grid_row": null,
       "grid_template_areas": null,
       "grid_template_columns": null,
       "grid_template_rows": null,
       "height": null,
       "justify_content": null,
       "justify_items": null,
       "left": null,
       "margin": null,
       "max_height": null,
       "max_width": null,
       "min_height": null,
       "min_width": null,
       "object_fit": null,
       "object_position": null,
       "order": null,
       "overflow": null,
       "overflow_x": null,
       "overflow_y": null,
       "padding": null,
       "right": null,
       "top": null,
       "visibility": null,
       "width": null
      }
     },
     "e070bb59c857421982fdd042d3f78971": {
      "model_module": "@jupyter-widgets/controls",
      "model_module_version": "1.5.0",
      "model_name": "DescriptionStyleModel",
      "state": {
       "_model_module": "@jupyter-widgets/controls",
       "_model_module_version": "1.5.0",
       "_model_name": "DescriptionStyleModel",
       "_view_count": null,
       "_view_module": "@jupyter-widgets/base",
       "_view_module_version": "1.2.0",
       "_view_name": "StyleView",
       "description_width": ""
      }
     },
     "e09cff8fcdf14df18649ee0e55f4bf1f": {
      "model_module": "@jupyter-widgets/controls",
      "model_module_version": "1.5.0",
      "model_name": "DescriptionStyleModel",
      "state": {
       "_model_module": "@jupyter-widgets/controls",
       "_model_module_version": "1.5.0",
       "_model_name": "DescriptionStyleModel",
       "_view_count": null,
       "_view_module": "@jupyter-widgets/base",
       "_view_module_version": "1.2.0",
       "_view_name": "StyleView",
       "description_width": ""
      }
     },
     "e199eddfdc5c44c79178882df9c99ac6": {
      "model_module": "@jupyter-widgets/controls",
      "model_module_version": "1.5.0",
      "model_name": "HTMLModel",
      "state": {
       "_dom_classes": [],
       "_model_module": "@jupyter-widgets/controls",
       "_model_module_version": "1.5.0",
       "_model_name": "HTMLModel",
       "_view_count": null,
       "_view_module": "@jupyter-widgets/controls",
       "_view_module_version": "1.5.0",
       "_view_name": "HTMLView",
       "description": "",
       "description_tooltip": null,
       "layout": "IPY_MODEL_bc2358db2d2e44d0aa7e361f360a9c9b",
       "placeholder": "​",
       "style": "IPY_MODEL_222589ba96e547af889bc41c737873b2",
       "value": " 665/665 [00:00&lt;00:00, 34.7kB/s]"
      }
     },
     "e664fb820c4e40129a98c82e0a950d28": {
      "model_module": "@jupyter-widgets/controls",
      "model_module_version": "1.5.0",
      "model_name": "HBoxModel",
      "state": {
       "_dom_classes": [],
       "_model_module": "@jupyter-widgets/controls",
       "_model_module_version": "1.5.0",
       "_model_name": "HBoxModel",
       "_view_count": null,
       "_view_module": "@jupyter-widgets/controls",
       "_view_module_version": "1.5.0",
       "_view_name": "HBoxView",
       "box_style": "",
       "children": [
        "IPY_MODEL_ba7b7799bdb2456fa614c9b5976d4b9c",
        "IPY_MODEL_17abf54732f241698c459cda467a7df0",
        "IPY_MODEL_1d4b0d15dcc14a25a0c9cb433c90fa49"
       ],
       "layout": "IPY_MODEL_5f6a863ae5c6490bb6edcc6e17ee8154"
      }
     },
     "f799711fa1c144188b788ed98eb244c7": {
      "model_module": "@jupyter-widgets/base",
      "model_module_version": "1.2.0",
      "model_name": "LayoutModel",
      "state": {
       "_model_module": "@jupyter-widgets/base",
       "_model_module_version": "1.2.0",
       "_model_name": "LayoutModel",
       "_view_count": null,
       "_view_module": "@jupyter-widgets/base",
       "_view_module_version": "1.2.0",
       "_view_name": "LayoutView",
       "align_content": null,
       "align_items": null,
       "align_self": null,
       "border": null,
       "bottom": null,
       "display": null,
       "flex": null,
       "flex_flow": null,
       "grid_area": null,
       "grid_auto_columns": null,
       "grid_auto_flow": null,
       "grid_auto_rows": null,
       "grid_column": null,
       "grid_gap": null,
       "grid_row": null,
       "grid_template_areas": null,
       "grid_template_columns": null,
       "grid_template_rows": null,
       "height": null,
       "justify_content": null,
       "justify_items": null,
       "left": null,
       "margin": null,
       "max_height": null,
       "max_width": null,
       "min_height": null,
       "min_width": null,
       "object_fit": null,
       "object_position": null,
       "order": null,
       "overflow": null,
       "overflow_x": null,
       "overflow_y": null,
       "padding": null,
       "right": null,
       "top": null,
       "visibility": null,
       "width": null
      }
     },
     "fe5132e595334c93a6aa78982e77eefb": {
      "model_module": "@jupyter-widgets/base",
      "model_module_version": "1.2.0",
      "model_name": "LayoutModel",
      "state": {
       "_model_module": "@jupyter-widgets/base",
       "_model_module_version": "1.2.0",
       "_model_name": "LayoutModel",
       "_view_count": null,
       "_view_module": "@jupyter-widgets/base",
       "_view_module_version": "1.2.0",
       "_view_name": "LayoutView",
       "align_content": null,
       "align_items": null,
       "align_self": null,
       "border": null,
       "bottom": null,
       "display": null,
       "flex": null,
       "flex_flow": null,
       "grid_area": null,
       "grid_auto_columns": null,
       "grid_auto_flow": null,
       "grid_auto_rows": null,
       "grid_column": null,
       "grid_gap": null,
       "grid_row": null,
       "grid_template_areas": null,
       "grid_template_columns": null,
       "grid_template_rows": null,
       "height": null,
       "justify_content": null,
       "justify_items": null,
       "left": null,
       "margin": null,
       "max_height": null,
       "max_width": null,
       "min_height": null,
       "min_width": null,
       "object_fit": null,
       "object_position": null,
       "order": null,
       "overflow": null,
       "overflow_x": null,
       "overflow_y": null,
       "padding": null,
       "right": null,
       "top": null,
       "visibility": null,
       "width": null
      }
     }
    },
    "version_major": 2,
    "version_minor": 0
   }
  }
 },
 "nbformat": 4,
 "nbformat_minor": 5
}
